{
 "cells": [
  {
   "cell_type": "markdown",
   "metadata": {},
   "source": [
    "<div style=\"border:solid green 2px; padding: 20px\"> <h1 style=\"color:green; margin-bottom:20px\">Reviewers comment v1</h1>\n",
    "\n",
    "Hello Khanan!\n",
    "\n",
    "Im happy to review your project today 🙌\n",
    "\n",
    "You can find my comments under the heading **«Review»**. I will categorize my comments in green, blue or red boxes like this:\n",
    "\n",
    "<div class=\"alert alert-success\">\n",
    "    <b>Success:</b> if everything is done successfully\n",
    "</div>\n",
    "<div class=\"alert alert-warning\">\n",
    "    <b>Remarks:</b> if I can give some recommendations or ways to improve the project\n",
    "</div>\n",
    "<div class=\"alert alert-danger\">\n",
    "    <b>Needs fixing:</b> if the block requires some corrections. Work cant be accepted with the red comments\n",
    "</div>\n",
    "\n",
    "Please dont remove my comments :) If you have any questions dont hesitate to respond to my comments in a different section. \n",
    "<div class=\"alert alert-info\"> <b>Student comments:</b> For example like this</div>    \n",
    "\n"
   ]
  },
  {
   "cell_type": "markdown",
   "metadata": {},
   "source": [
    " <div style=\"border:solid green 2px; padding: 20px\">\n",
    "<b>Reviewer's comment v1:</b>\n",
    "    \n",
    "<b>Overall Feedback</b> \n",
    "    \n",
    "\n",
    "Hello,\n",
    "    \n",
    "Another project successfully completed - well done! 🏆 Your consistent effort and progress are truly commendable.\n",
    "\n",
    "Our team is here to help you keep pushing forward and honing your skills as you advance through the program.\n",
    "\n",
    "You’ll find general comments below in the notebook in the `Reviewer's comment v1:` blocks.\n",
    "\n",
    "**What Was Great:**\n",
    "\n",
    "- Data Loading and Preparation: You successfully loaded the dataset and correctly separated the features and target variable. This is a crucial first step, and you handled it appropriately.\n",
    "- Model Training and Evaluation: Using a loop to train and evaluate each model is an efficient approach. You correctly used the accuracy_score metric to assess the models and identified the Random Forest classifier as the best-performing model.\n",
    "- Test Set Evaluation: You validated the performance of your selected model on a test set, ensuring that the model generalizes well to unseen data. The test accuracy being close to the validation accuracy is a good sign.\n",
    "   \n",
    "    \n",
    "Congratulations again on your accomplishment! Each project you complete adds to your growing expertise, and it’s exciting to see you make such great strides. Keep up the great work! 🎯"
   ]
  },
  {
   "cell_type": "markdown",
   "metadata": {},
   "source": [
    "# Intro to Machine Learning Project"
   ]
  },
  {
   "cell_type": "markdown",
   "metadata": {},
   "source": [
    "* Contents <a id='back'></a>\n",
    "\n",
    "* [Introduction](#intro)\n",
    "* [General information of the datasets](#general)\n",
    "* [Optimizing the data for analysis](#optimize)\n",
    "* [Split the source data into a training set, a validation set, and a test set](#split)\n",
    "* [Investigate the quality of different models by changing hyperparameters. Briefly describe the findings of the study.](#invest)\n",
    "    * [Decision Tree Classifier](#decision)\n",
    "    * [Logistic Regression](#log)\n",
    "    * [Random Forest Classifier ](#ran)\n",
    "* [Check the quality of the model using the test set](#check)\n",
    "    * [Decision Tree Classifier](#dec)\n",
    "    * [Logistic Regression](#logi)\n",
    "    * [Random Forest Classifier](#rand)\n",
    "* [Sanity check the model ](#sanity)\n",
    "* [Conclusions ](#conclusions)"
   ]
  },
  {
   "cell_type": "markdown",
   "metadata": {},
   "source": [
    "## Introduction <a id='intro'></a>"
   ]
  },
  {
   "cell_type": "markdown",
   "metadata": {},
   "source": [
    "Megaline, a major mobile carrier, has discovered that a large portion of its subscriber base continues to use outdated legacy mobile plans. To optimize user satisfaction and increase the adoption of more profitable or feature-rich services, the company aims to transition these customers to one of its newer offerings: the Smart or Ultra plans.\n",
    "\n",
    "The goal of this project is to develop a machine learning model that can analyze subscriber behavior and recommend the most suitable plan for each user. By examining patterns in service usage—such as the number of calls, messages, and internet data consumed—we aim to build a classifier that predicts whether a subscriber is better suited for the Smart or Ultra plan."
   ]
  },
  {
   "cell_type": "markdown",
   "metadata": {},
   "source": [
    "<div class=\"alert alert-success\">\n",
    "<b>Reviewer's comment v1:</b>\n",
    "    \n",
    "Great that you've added a short information about the project goal. It gives an overview of what you are going to achieve in this project.\n"
   ]
  },
  {
   "cell_type": "markdown",
   "metadata": {},
   "source": [
    "## General Information of the dataset <a id='general'></a>"
   ]
  },
  {
   "cell_type": "markdown",
   "metadata": {},
   "source": [
    "* Import libraries"
   ]
  },
  {
   "cell_type": "code",
   "execution_count": 1,
   "metadata": {},
   "outputs": [],
   "source": [
    "import numpy as np\n",
    "import joblib\n",
    "import pandas as pd\n",
    "from sklearn.ensemble import RandomForestClassifier\n",
    "from sklearn.tree import DecisionTreeClassifier\n",
    "from sklearn.linear_model import LogisticRegression\n",
    "from sklearn.metrics import accuracy_score, classification_report, confusion_matrix, ConfusionMatrixDisplay\n",
    "from sklearn.model_selection import train_test_split\n",
    "from sklearn.model_selection import GridSearchCV\n",
    "import matplotlib.pyplot as plt\n",
    "import seaborn as sns\n",
    "from sklearn.dummy import DummyClassifier"
   ]
  },
  {
   "cell_type": "code",
   "execution_count": 2,
   "metadata": {
    "scrolled": false
   },
   "outputs": [
    {
     "data": {
      "text/html": [
       "<div>\n",
       "<style scoped>\n",
       "    .dataframe tbody tr th:only-of-type {\n",
       "        vertical-align: middle;\n",
       "    }\n",
       "\n",
       "    .dataframe tbody tr th {\n",
       "        vertical-align: top;\n",
       "    }\n",
       "\n",
       "    .dataframe thead th {\n",
       "        text-align: right;\n",
       "    }\n",
       "</style>\n",
       "<table border=\"1\" class=\"dataframe\">\n",
       "  <thead>\n",
       "    <tr style=\"text-align: right;\">\n",
       "      <th></th>\n",
       "      <th>calls</th>\n",
       "      <th>minutes</th>\n",
       "      <th>messages</th>\n",
       "      <th>mb_used</th>\n",
       "      <th>is_ultra</th>\n",
       "    </tr>\n",
       "  </thead>\n",
       "  <tbody>\n",
       "    <tr>\n",
       "      <th>0</th>\n",
       "      <td>40.0</td>\n",
       "      <td>311.90</td>\n",
       "      <td>83.0</td>\n",
       "      <td>19915.42</td>\n",
       "      <td>0</td>\n",
       "    </tr>\n",
       "    <tr>\n",
       "      <th>1</th>\n",
       "      <td>85.0</td>\n",
       "      <td>516.75</td>\n",
       "      <td>56.0</td>\n",
       "      <td>22696.96</td>\n",
       "      <td>0</td>\n",
       "    </tr>\n",
       "    <tr>\n",
       "      <th>2</th>\n",
       "      <td>77.0</td>\n",
       "      <td>467.66</td>\n",
       "      <td>86.0</td>\n",
       "      <td>21060.45</td>\n",
       "      <td>0</td>\n",
       "    </tr>\n",
       "    <tr>\n",
       "      <th>3</th>\n",
       "      <td>106.0</td>\n",
       "      <td>745.53</td>\n",
       "      <td>81.0</td>\n",
       "      <td>8437.39</td>\n",
       "      <td>1</td>\n",
       "    </tr>\n",
       "    <tr>\n",
       "      <th>4</th>\n",
       "      <td>66.0</td>\n",
       "      <td>418.74</td>\n",
       "      <td>1.0</td>\n",
       "      <td>14502.75</td>\n",
       "      <td>0</td>\n",
       "    </tr>\n",
       "    <tr>\n",
       "      <th>...</th>\n",
       "      <td>...</td>\n",
       "      <td>...</td>\n",
       "      <td>...</td>\n",
       "      <td>...</td>\n",
       "      <td>...</td>\n",
       "    </tr>\n",
       "    <tr>\n",
       "      <th>3209</th>\n",
       "      <td>122.0</td>\n",
       "      <td>910.98</td>\n",
       "      <td>20.0</td>\n",
       "      <td>35124.90</td>\n",
       "      <td>1</td>\n",
       "    </tr>\n",
       "    <tr>\n",
       "      <th>3210</th>\n",
       "      <td>25.0</td>\n",
       "      <td>190.36</td>\n",
       "      <td>0.0</td>\n",
       "      <td>3275.61</td>\n",
       "      <td>0</td>\n",
       "    </tr>\n",
       "    <tr>\n",
       "      <th>3211</th>\n",
       "      <td>97.0</td>\n",
       "      <td>634.44</td>\n",
       "      <td>70.0</td>\n",
       "      <td>13974.06</td>\n",
       "      <td>0</td>\n",
       "    </tr>\n",
       "    <tr>\n",
       "      <th>3212</th>\n",
       "      <td>64.0</td>\n",
       "      <td>462.32</td>\n",
       "      <td>90.0</td>\n",
       "      <td>31239.78</td>\n",
       "      <td>0</td>\n",
       "    </tr>\n",
       "    <tr>\n",
       "      <th>3213</th>\n",
       "      <td>80.0</td>\n",
       "      <td>566.09</td>\n",
       "      <td>6.0</td>\n",
       "      <td>29480.52</td>\n",
       "      <td>1</td>\n",
       "    </tr>\n",
       "  </tbody>\n",
       "</table>\n",
       "<p>3214 rows × 5 columns</p>\n",
       "</div>"
      ],
      "text/plain": [
       "      calls  minutes  messages   mb_used  is_ultra\n",
       "0      40.0   311.90      83.0  19915.42         0\n",
       "1      85.0   516.75      56.0  22696.96         0\n",
       "2      77.0   467.66      86.0  21060.45         0\n",
       "3     106.0   745.53      81.0   8437.39         1\n",
       "4      66.0   418.74       1.0  14502.75         0\n",
       "...     ...      ...       ...       ...       ...\n",
       "3209  122.0   910.98      20.0  35124.90         1\n",
       "3210   25.0   190.36       0.0   3275.61         0\n",
       "3211   97.0   634.44      70.0  13974.06         0\n",
       "3212   64.0   462.32      90.0  31239.78         0\n",
       "3213   80.0   566.09       6.0  29480.52         1\n",
       "\n",
       "[3214 rows x 5 columns]"
      ]
     },
     "execution_count": 2,
     "metadata": {},
     "output_type": "execute_result"
    }
   ],
   "source": [
    "df = pd.read_csv('/datasets/users_behavior.csv')\n",
    "df"
   ]
  },
  {
   "cell_type": "markdown",
   "metadata": {},
   "source": [
    "## Optimizing the data for analysis <a id='optimize'></a>"
   ]
  },
  {
   "cell_type": "markdown",
   "metadata": {},
   "source": [
    "The analyze_data function will check for missing values(using isna() method) and duplicated values(using duplicated() method)."
   ]
  },
  {
   "cell_type": "code",
   "execution_count": 3,
   "metadata": {},
   "outputs": [
    {
     "name": "stdout",
     "output_type": "stream",
     "text": [
      "calls       0\n",
      "minutes     0\n",
      "messages    0\n",
      "mb_used     0\n",
      "is_ultra    0\n",
      "dtype: int64\n",
      "\n",
      "0\n",
      "\n"
     ]
    },
    {
     "data": {
      "text/html": [
       "<div>\n",
       "<style scoped>\n",
       "    .dataframe tbody tr th:only-of-type {\n",
       "        vertical-align: middle;\n",
       "    }\n",
       "\n",
       "    .dataframe tbody tr th {\n",
       "        vertical-align: top;\n",
       "    }\n",
       "\n",
       "    .dataframe thead th {\n",
       "        text-align: right;\n",
       "    }\n",
       "</style>\n",
       "<table border=\"1\" class=\"dataframe\">\n",
       "  <thead>\n",
       "    <tr style=\"text-align: right;\">\n",
       "      <th></th>\n",
       "      <th>calls</th>\n",
       "      <th>minutes</th>\n",
       "      <th>messages</th>\n",
       "      <th>mb_used</th>\n",
       "      <th>is_ultra</th>\n",
       "    </tr>\n",
       "  </thead>\n",
       "  <tbody>\n",
       "    <tr>\n",
       "      <th>2363</th>\n",
       "      <td>40.0</td>\n",
       "      <td>227.89</td>\n",
       "      <td>38.0</td>\n",
       "      <td>0.00</td>\n",
       "      <td>1</td>\n",
       "    </tr>\n",
       "    <tr>\n",
       "      <th>1239</th>\n",
       "      <td>117.0</td>\n",
       "      <td>848.44</td>\n",
       "      <td>28.0</td>\n",
       "      <td>17736.31</td>\n",
       "      <td>1</td>\n",
       "    </tr>\n",
       "    <tr>\n",
       "      <th>1840</th>\n",
       "      <td>37.0</td>\n",
       "      <td>272.38</td>\n",
       "      <td>74.0</td>\n",
       "      <td>25087.62</td>\n",
       "      <td>0</td>\n",
       "    </tr>\n",
       "    <tr>\n",
       "      <th>1804</th>\n",
       "      <td>69.0</td>\n",
       "      <td>449.53</td>\n",
       "      <td>41.0</td>\n",
       "      <td>11087.66</td>\n",
       "      <td>0</td>\n",
       "    </tr>\n",
       "    <tr>\n",
       "      <th>2961</th>\n",
       "      <td>137.0</td>\n",
       "      <td>899.90</td>\n",
       "      <td>0.0</td>\n",
       "      <td>10289.26</td>\n",
       "      <td>1</td>\n",
       "    </tr>\n",
       "    <tr>\n",
       "      <th>3071</th>\n",
       "      <td>76.0</td>\n",
       "      <td>523.34</td>\n",
       "      <td>0.0</td>\n",
       "      <td>16082.38</td>\n",
       "      <td>0</td>\n",
       "    </tr>\n",
       "    <tr>\n",
       "      <th>1060</th>\n",
       "      <td>99.0</td>\n",
       "      <td>660.20</td>\n",
       "      <td>17.0</td>\n",
       "      <td>18430.23</td>\n",
       "      <td>1</td>\n",
       "    </tr>\n",
       "    <tr>\n",
       "      <th>2362</th>\n",
       "      <td>72.0</td>\n",
       "      <td>489.99</td>\n",
       "      <td>83.0</td>\n",
       "      <td>13889.73</td>\n",
       "      <td>0</td>\n",
       "    </tr>\n",
       "    <tr>\n",
       "      <th>2911</th>\n",
       "      <td>76.0</td>\n",
       "      <td>528.42</td>\n",
       "      <td>24.0</td>\n",
       "      <td>15477.77</td>\n",
       "      <td>0</td>\n",
       "    </tr>\n",
       "    <tr>\n",
       "      <th>208</th>\n",
       "      <td>23.0</td>\n",
       "      <td>99.20</td>\n",
       "      <td>21.0</td>\n",
       "      <td>17001.87</td>\n",
       "      <td>0</td>\n",
       "    </tr>\n",
       "  </tbody>\n",
       "</table>\n",
       "</div>"
      ],
      "text/plain": [
       "      calls  minutes  messages   mb_used  is_ultra\n",
       "2363   40.0   227.89      38.0      0.00         1\n",
       "1239  117.0   848.44      28.0  17736.31         1\n",
       "1840   37.0   272.38      74.0  25087.62         0\n",
       "1804   69.0   449.53      41.0  11087.66         0\n",
       "2961  137.0   899.90       0.0  10289.26         1\n",
       "3071   76.0   523.34       0.0  16082.38         0\n",
       "1060   99.0   660.20      17.0  18430.23         1\n",
       "2362   72.0   489.99      83.0  13889.73         0\n",
       "2911   76.0   528.42      24.0  15477.77         0\n",
       "208    23.0    99.20      21.0  17001.87         0"
      ]
     },
     "metadata": {},
     "output_type": "display_data"
    }
   ],
   "source": [
    "def analyze_data(df):\n",
    "\n",
    "    # Missing values\n",
    "    print(df.isna().sum())\n",
    "    print()\n",
    "\n",
    "    # Duplicates\n",
    "    \n",
    "    print(df.duplicated().sum())\n",
    "    print()\n",
    "\n",
    "    # Random rows\n",
    "    display(df.sample(10))\n",
    "    \n",
    "analyze_data(df)"
   ]
  },
  {
   "cell_type": "markdown",
   "metadata": {},
   "source": [
    "The output shows no missing or duplicated values."
   ]
  },
  {
   "cell_type": "markdown",
   "metadata": {},
   "source": [
    "<div class=\"alert alert-success\">\n",
    "<b>Reviewer's comment v1:</b>\n",
    "    \n",
    "Well done! Data have been successfully loaded and inspected."
   ]
  },
  {
   "cell_type": "markdown",
   "metadata": {},
   "source": [
    "[Back to Contents](#back)"
   ]
  },
  {
   "cell_type": "markdown",
   "metadata": {},
   "source": [
    "## Split the source data into a training set, a validation set, and a test set <a id='split'></a>"
   ]
  },
  {
   "cell_type": "markdown",
   "metadata": {},
   "source": [
    "First, we create `features` and `target` variables for our models. We'll stratify by `is_ultra` to maintain class balance in each split."
   ]
  },
  {
   "cell_type": "code",
   "execution_count": 4,
   "metadata": {},
   "outputs": [],
   "source": [
    "features = df.drop(['is_ultra'], axis=1)\n",
    "target = df['is_ultra']"
   ]
  },
  {
   "cell_type": "markdown",
   "metadata": {},
   "source": [
    "Next, we split the data to train/valid/test sets. The split ratio will be 60%/20%/20% respectively. We will use `train_test_split` twice, first one will split the data into train and valid sets, the second one will split the data into train and test sets."
   ]
  },
  {
   "cell_type": "code",
   "execution_count": 5,
   "metadata": {},
   "outputs": [],
   "source": [
    "features_train, features_valid, target_train, target_valid = train_test_split( \n",
    "    features, target, test_size=0.2, random_state=2000\n",
    ")\n",
    "features_train, features_test, target_train, target_test = train_test_split( \n",
    "    features_train, target_train, test_size=0.25, random_state=2000\n",
    ")"
   ]
  },
  {
   "cell_type": "markdown",
   "metadata": {},
   "source": [
    "<div class=\"alert alert-warning\">\n",
    "<b>Reviewer's comment v1:</b>\n",
    "    \n",
    "Consider using stratified splits (`stratify` parameter) to ensure that class distributions are similar across training, validation, and test sets.\n",
    "\n"
   ]
  },
  {
   "cell_type": "code",
   "execution_count": 6,
   "metadata": {},
   "outputs": [
    {
     "data": {
      "text/plain": [
       "(1928, 4)"
      ]
     },
     "metadata": {},
     "output_type": "display_data"
    }
   ],
   "source": [
    "display(features_train.shape)"
   ]
  },
  {
   "cell_type": "code",
   "execution_count": 7,
   "metadata": {},
   "outputs": [
    {
     "data": {
      "text/plain": [
       "(643, 4)"
      ]
     },
     "metadata": {},
     "output_type": "display_data"
    }
   ],
   "source": [
    "display(features_valid.shape)"
   ]
  },
  {
   "cell_type": "code",
   "execution_count": 8,
   "metadata": {
    "scrolled": false
   },
   "outputs": [
    {
     "data": {
      "text/plain": [
       "(643, 4)"
      ]
     },
     "metadata": {},
     "output_type": "display_data"
    }
   ],
   "source": [
    "display(features_test.shape)"
   ]
  },
  {
   "cell_type": "markdown",
   "metadata": {},
   "source": [
    "<div class=\"alert alert-warning\">\n",
    "<b>Reviewer's comment v1:</b>\n",
    "\n",
    "You could also print the sizes of the dataframes using the `.shape` attribute and `f-strings`?\n",
    "\n",
    "For example:\n",
    "\n",
    "```python\n",
    "`print(f'The training set shape is {features_tr_val.shape} for features...')`\n",
    "```\n",
    "    \n",
    "By the way, Python’s f-strings are a super useful option for displaying output in your notebook.\n",
    "    \n",
    "You can find more information and examples here:\n",
    "  \n",
    "- https://realpython.com/python-f-strings/\n",
    "- https://www.geeksforgeeks.org/formatted-string-literals-f-strings-python/"
   ]
  },
  {
   "cell_type": "markdown",
   "metadata": {},
   "source": [
    "<div class=\"alert alert-success\">\n",
    "<b>Reviewer's comment v1:</b>\n",
    "    \n",
    "Great everything is correct here! \n"
   ]
  },
  {
   "cell_type": "markdown",
   "metadata": {},
   "source": [
    "This split is often considered better in certain situations than alternatives (like 70/30 or 80/20) because it provides a balanced trade-off between: Sufficient Training Data (60%); Dedicated Validation Set (20%); Reliable Test Evaluation (20%)."
   ]
  },
  {
   "cell_type": "code",
   "execution_count": 9,
   "metadata": {
    "scrolled": false
   },
   "outputs": [
    {
     "data": {
      "image/png": "[encoded data removed]",
      "text/plain": [
       "<Figure size 800x400 with 1 Axes>"
      ]
     },
     "metadata": {},
     "output_type": "display_data"
    },
    {
     "data": {
      "image/png": "[encoded data removed]",
      "text/plain": [
       "<Figure size 800x400 with 1 Axes>"
      ]
     },
     "metadata": {},
     "output_type": "display_data"
    },
    {
     "data": {
      "image/png": "[encoded data removed]",
      "text/plain": [
       "<Figure size 800x400 with 1 Axes>"
      ]
     },
     "metadata": {},
     "output_type": "display_data"
    },
    {
     "data": {
      "image/png": "[encoded data removed]",
      "text/plain": [
       "<Figure size 800x400 with 1 Axes>"
      ]
     },
     "metadata": {},
     "output_type": "display_data"
    },
    {
     "data": {
      "image/png": "[encoded data removed]",
      "text/plain": [
       "<Figure size 600x400 with 1 Axes>"
      ]
     },
     "metadata": {},
     "output_type": "display_data"
    }
   ],
   "source": [
    "# 4. Plot: Distribution of numeric features\n",
    "numeric_features = ['calls', 'minutes', 'messages', 'mb_used']\n",
    "\n",
    "for feature in numeric_features:\n",
    "    plt.figure(figsize=(8, 4))\n",
    "    sns.histplot(df[feature], bins=30, kde=True, color=\"skyblue\")\n",
    "    plt.title(f'Distribution of {feature.capitalize()}', fontsize=16)\n",
    "    plt.xlabel(feature.capitalize())\n",
    "    plt.ylabel('Count')\n",
    "    plt.show()\n",
    "\n",
    "# 6. Plot: Distribution of users by plan type (Smart vs Ultra)\n",
    "plt.figure(figsize=(6, 4))\n",
    "sns.countplot(x='is_ultra', data=df, palette='pastel')\n",
    "plt.title('Plan Type Distribution', fontsize=16)\n",
    "plt.xlabel('Plan (0 = Smart, 1 = Ultra)')\n",
    "plt.ylabel('Number of Users')\n",
    "plt.show()"
   ]
  },
  {
   "cell_type": "markdown",
   "metadata": {},
   "source": [
    "Distribution of users by plan type. Most users are subscribed to the Smart plan (is_ultra = 0), while a smaller proportion are on the Ultra plan (is_ultra = 1). The Ultra plan may be less popular, possibly due to higher price or features not appealing to most users."
   ]
  },
  {
   "cell_type": "markdown",
   "metadata": {},
   "source": [
    "[Back to Contents](#back)"
   ]
  },
  {
   "cell_type": "markdown",
   "metadata": {},
   "source": [
    "## Investigate the quality of different models by changing hyperparameters <a id='invest'></a>"
   ]
  },
  {
   "cell_type": "markdown",
   "metadata": {},
   "source": [
    "### Decision Tree Classifier <a id='decision'></a>"
   ]
  },
  {
   "cell_type": "markdown",
   "metadata": {},
   "source": [
    "* The DecisionTreeClassifier is a machine learning algorithm used for classification tasks. It's a type of decision tree where the goal is to predict a target variable (class label) based on input features. The tree is built by splitting the data at each node, choosing the feature and threshold that best separates the data into different classes. The tree continues splitting the data recursively until it reaches a stopping condition, such as a maximum depth, minimum number of samples at a node, or other stopping criteria."
   ]
  },
  {
   "cell_type": "markdown",
   "metadata": {},
   "source": [
    "First calculate the best value for `min_samples_split` using `GridSearchCV`."
   ]
  },
  {
   "cell_type": "code",
   "execution_count": 10,
   "metadata": {},
   "outputs": [
    {
     "name": "stdout",
     "output_type": "stream",
     "text": [
      "Best min_samples_split: 50\n",
      "Best score: 0.7837049996635488\n"
     ]
    }
   ],
   "source": [
    "# Set up the parameter grid\n",
    "param_grid = {\n",
    "    'min_samples_split': [2, 5, 10, 20, 50]\n",
    "}\n",
    "\n",
    "# Create a Decision Tree Classifier\n",
    "dt = DecisionTreeClassifier(random_state=12345)\n",
    "\n",
    "# Grid Search with cross-validation\n",
    "grid_search = GridSearchCV(estimator=dt, param_grid=param_grid, cv=5, scoring='accuracy')\n",
    "grid_search.fit(features_train, target_train)\n",
    "\n",
    "# Best value\n",
    "print(\"Best min_samples_split:\", grid_search.best_params_['min_samples_split'])\n",
    "print(\"Best score:\", grid_search.best_score_)"
   ]
  },
  {
   "cell_type": "markdown",
   "metadata": {},
   "source": [
    "The best `min_samples_split` parameter was found to be '50'. We will use it in the hyperparameters of our 'DecisionTreeClassifier' model."
   ]
  },
  {
   "cell_type": "markdown",
   "metadata": {},
   "source": [
    "* Create a model."
   ]
  },
  {
   "cell_type": "code",
   "execution_count": 11,
   "metadata": {},
   "outputs": [
    {
     "name": "stdout",
     "output_type": "stream",
     "text": [
      "DecisionTreeClassifier(max_depth=4, min_samples_split=50, random_state=12345) 0.80248833592535\n"
     ]
    }
   ],
   "source": [
    "best_model = None\n",
    "best_result = 0\n",
    "for depth in range(1, 6):\n",
    "    model_dec = DecisionTreeClassifier(random_state=12345, max_depth=depth, min_samples_split=50) # create a model with the given depth\n",
    "    model_dec.fit(features_train, target_train) # train the model\n",
    "    predictions_dec = model_dec.predict(features_valid) # get the model's predictions\n",
    "    result_dec = accuracy_score(target_valid, predictions_dec) # calculate the accuracy\n",
    "    if result_dec > best_result:\n",
    "        best_model = model_dec\n",
    "        best_result = result_dec\n",
    "print(best_model, best_result)"
   ]
  },
  {
   "cell_type": "markdown",
   "metadata": {},
   "source": [
    "The `accuracy score` is a common metric used to evaluate the performance of a machine learning model, particularly in classification tasks. It measures the proportion of correct predictions made by the model compared to the total number of predictions. The `accuracy score` of our model is `0.80248833592535` which means `80%` of our predictions are correct."
   ]
  },
  {
   "cell_type": "markdown",
   "metadata": {},
   "source": [
    "### Logistic Regression <a id='log'></a>"
   ]
  },
  {
   "cell_type": "markdown",
   "metadata": {},
   "source": [
    "* Logistic Regression is a statistical method used for binary classification problems. It predicts the probability that an input belongs to a particular class (typically coded as 0 or 1) by modeling the relationship between the independent variables and the log-odds of the dependent variable."
   ]
  },
  {
   "cell_type": "code",
   "execution_count": 12,
   "metadata": {},
   "outputs": [
    {
     "name": "stdout",
     "output_type": "stream",
     "text": [
      "Accuracy of the logistic regression model on the training set: 0.716804979253112\n",
      "Accuracy of the logistic regression model on the validation set: 0.6889580093312597\n"
     ]
    }
   ],
   "source": [
    "# initialize logistic regression constructor with parameters random_state=54321 and solver='liblinear'\n",
    "model_log =  LogisticRegression(random_state=54321, solver='liblinear', max_iter=1000)\n",
    "\n",
    "# train model on training set\n",
    "model_log.fit(features_train, target_train) \n",
    "\n",
    "# calculate accuracy score on training set\n",
    "score_train = model_log.score(\n",
    "    features_train,target_train \n",
    ")\n",
    "\n",
    "# calculate accuracy score on validation set\n",
    "score_valid = model_log.score(\n",
    "    features_valid, target_valid\n",
    ")\n",
    "\n",
    "print(\n",
    "    \"Accuracy of the logistic regression model on the training set:\",\n",
    "    score_train,\n",
    ")\n",
    "print(\n",
    "    \"Accuracy of the logistic regression model on the validation set:\",\n",
    "    score_valid,\n",
    ")"
   ]
  },
  {
   "cell_type": "code",
   "execution_count": 13,
   "metadata": {},
   "outputs": [
    {
     "name": "stdout",
     "output_type": "stream",
     "text": [
      "0.6889580093312597\n"
     ]
    }
   ],
   "source": [
    "# initialize logistic regression constructor with parameters random_state=54321 and solver='liblinear'\n",
    "model_log =  LogisticRegression(random_state=54321, solver='liblinear', max_iter=1000)\n",
    "\n",
    "# train model on training set\n",
    "model_log.fit(features_train, target_train) \n",
    "\n",
    "predictions_log = model_log.predict(features_valid)\n",
    "\n",
    "result_log = accuracy_score(target_valid, predictions_log)\n",
    "\n",
    "print(result_log)"
   ]
  },
  {
   "cell_type": "markdown",
   "metadata": {},
   "source": [
    "* `solver='liblinear'` - Optimization algorithm to use.\t'liblinear' works well for small to medium-sized datasets and supports L1 regularization (sparse models). `random_state=54321` - Random seed. Ensures that the results are reproducible (same splits, same training). `max_iter=1000` - Maximum number of iterations. Increases the number of iterations to ensure the model converges when using 'l1' penalty, which sometimes needs more steps.\n",
    "\n",
    "* Decision Trees capture non-linear relationships and complex patterns better than Logistic Regression and Decision Tree is clearly outperforming Logistic Regression here (by ~9% higher accuracy)."
   ]
  },
  {
   "cell_type": "markdown",
   "metadata": {},
   "source": [
    "### Random Forest Classifier <a id='ran'></a>"
   ]
  },
  {
   "cell_type": "markdown",
   "metadata": {},
   "source": [
    "Random Forest Classification works by creating multiple decision trees each trained on a random subset of data."
   ]
  },
  {
   "cell_type": "code",
   "execution_count": 14,
   "metadata": {},
   "outputs": [
    {
     "name": "stdout",
     "output_type": "stream",
     "text": [
      "Accuracy of the best model on the validation set (n_estimators = {26}):  0.8164852255054432\n"
     ]
    }
   ],
   "source": [
    "model_ran = RandomForestClassifier(\n",
    "    n_estimators=26,        # number of trees\n",
    "    max_depth=None,          # let trees grow until pure or until min_samples_split\n",
    "    min_samples_split=2,     # minimum number of samples required to split an internal node\n",
    "    min_samples_leaf=1,      # minimum number of samples required to be at a leaf node\n",
    "    class_weight='balanced', # correct class imbalance\n",
    "    random_state=42\n",
    ")# set number of trees\n",
    "model_ran.fit(features_train, target_train) # train model on training set\n",
    "predictions_ran = model_ran.predict(features_valid)\n",
    "score = accuracy_score(target_valid, predictions_ran) # calculate accuracy score on validation set\n",
    "\n",
    "print(\"Accuracy of the best model on the validation set (n_estimators = {26}): \", score)"
   ]
  },
  {
   "cell_type": "markdown",
   "metadata": {},
   "source": [
    "The Random Forest achieved very strong results, almost the same as the Decision Tree (80%), but usually Random Forest is more stable and less prone to overfitting. Random Forest performs almost as well as a single Decision Tree, but it generalizes better and is usually more reliable on new, unseen data."
   ]
  },
  {
   "cell_type": "markdown",
   "metadata": {},
   "source": [
    "<div class=\"alert alert-success\">\n",
    "<b>Reviewer's comment v1:</b>\n",
    "    \n",
    "Everything is correct here! Great that you've managed to evaluate multiple classification models with different hyperparameters. \n",
    "    \n",
    "\n",
    "Some possible improvements:\n",
    "\n",
    "- If you find yourself repeating similar blocks of code, consider writing a function. This will make your code more organized and easier to maintain.\n",
    "- In addition to accuracy, consider evaluating models using additional metrics such as F1-score, precision, recall, or ROC-AUC for a more holistic view of performance, especially if the class distribution is imbalanced.\n",
    "- For a more systematic hyperparameter search, consider using GridSearchCV or RandomizedSearchCV from sklearn.model_selection.\n",
    "    \n",
    "You can find more information about GridSearchCV and RandomizedSearchCV here:\n",
    "    \n",
    "- https://towardsdatascience.com/gridsearchcv-for-beginners-db48a90114ee/\n",
    "- https://scikit-learn.org/stable/modules/generated/sklearn.model_selection.RandomizedSearchCV.html"
   ]
  },
  {
   "cell_type": "markdown",
   "metadata": {},
   "source": [
    "[Back to Contents](#back)"
   ]
  },
  {
   "cell_type": "markdown",
   "metadata": {},
   "source": [
    "## Check the quality of the model using the test set <a id='check'></a>"
   ]
  },
  {
   "cell_type": "code",
   "execution_count": 15,
   "metadata": {},
   "outputs": [],
   "source": [
    "target_test = target_test.to_numpy()"
   ]
  },
  {
   "cell_type": "markdown",
   "metadata": {},
   "source": [
    "### Decision Tree Classifier <a id='dec'></a>"
   ]
  },
  {
   "cell_type": "code",
   "execution_count": 16,
   "metadata": {},
   "outputs": [
    {
     "name": "stdout",
     "output_type": "stream",
     "text": [
      "Accuracy of the Decision Tree Classifier model on the test set: 0.7807153965785381\n",
      "Errors: 141\n"
     ]
    }
   ],
   "source": [
    "predictions_test = model_dec.predict(features_test)\n",
    "\n",
    "def error_count(answers, predictions):\n",
    "    errors = 0\n",
    "    for i in range(len(predictions)):\n",
    "        if answers[i] != predictions[i]:\n",
    "            errors += 1\n",
    "    return errors\n",
    "\n",
    "dec_errors = error_count(target_test, predictions_test)\n",
    "print(\n",
    "    \"Accuracy of the Decision Tree Classifier model on the test set:\",\n",
    "    accuracy_score(target_test, predictions_test)\n",
    ")\n",
    "print('Errors:', dec_errors)"
   ]
  },
  {
   "cell_type": "code",
   "execution_count": 17,
   "metadata": {},
   "outputs": [
    {
     "data": {
      "text/plain": [
       "0.2192846034214619"
      ]
     },
     "execution_count": 17,
     "metadata": {},
     "output_type": "execute_result"
    }
   ],
   "source": [
    "percent_error = dec_errors/len(target_test)\n",
    "percent_error"
   ]
  },
  {
   "cell_type": "markdown",
   "metadata": {},
   "source": [
    "* The model achieved a test accuracy of around 75–85%, which suggests it performs well in generalizing to unseen data.\n",
    "* It captures meaningful patterns in subscriber behavior that help distinguish between the Smart and Ultra plans."
   ]
  },
  {
   "cell_type": "code",
   "execution_count": 18,
   "metadata": {},
   "outputs": [
    {
     "name": "stdout",
     "output_type": "stream",
     "text": [
      "              precision    recall  f1-score   support\n",
      "\n",
      "           0       0.79      0.93      0.85       440\n",
      "           1       0.75      0.45      0.57       203\n",
      "\n",
      "    accuracy                           0.78       643\n",
      "   macro avg       0.77      0.69      0.71       643\n",
      "weighted avg       0.78      0.78      0.76       643\n",
      "\n"
     ]
    }
   ],
   "source": [
    "print(classification_report(target_test, predictions_test))"
   ]
  },
  {
   "cell_type": "markdown",
   "metadata": {},
   "source": [
    "### Logistic Regression <a id='logi'></a>"
   ]
  },
  {
   "cell_type": "code",
   "execution_count": 19,
   "metadata": {},
   "outputs": [
    {
     "name": "stdout",
     "output_type": "stream",
     "text": [
      "Accuracy of the Logistic Regression model on the test set: 0.702954898911353\n",
      "Errors: 141\n"
     ]
    }
   ],
   "source": [
    "predictions_test_log = model_log.predict(features_test)\n",
    "\n",
    "def error_count(answers, predictions):\n",
    "    errors = 0\n",
    "    for i in range(len(predictions)):\n",
    "        if answers[i] != predictions[i]:\n",
    "            errors += 1\n",
    "    return errors\n",
    "\n",
    "log_errors = error_count(target_test, predictions_test)\n",
    "\n",
    "print(\n",
    "    \"Accuracy of the Logistic Regression model on the test set:\",\n",
    "    accuracy_score(target_test, predictions_test_log)\n",
    ")\n",
    "print('Errors:', log_errors)"
   ]
  },
  {
   "cell_type": "code",
   "execution_count": 20,
   "metadata": {},
   "outputs": [
    {
     "data": {
      "text/plain": [
       "0.2192846034214619"
      ]
     },
     "execution_count": 20,
     "metadata": {},
     "output_type": "execute_result"
    }
   ],
   "source": [
    "percent_error = log_errors/len(target_test)\n",
    "percent_error"
   ]
  },
  {
   "cell_type": "markdown",
   "metadata": {},
   "source": [
    "Stable performance: If your test accuracy is around 70–75%, Logistic Regression handles the classification task fairly well."
   ]
  },
  {
   "cell_type": "code",
   "execution_count": 21,
   "metadata": {},
   "outputs": [
    {
     "name": "stdout",
     "output_type": "stream",
     "text": [
      "              precision    recall  f1-score   support\n",
      "\n",
      "           0       0.70      0.99      0.82       440\n",
      "           1       0.80      0.08      0.14       203\n",
      "\n",
      "    accuracy                           0.70       643\n",
      "   macro avg       0.75      0.53      0.48       643\n",
      "weighted avg       0.73      0.70      0.61       643\n",
      "\n"
     ]
    }
   ],
   "source": [
    "print(classification_report(target_test, predictions_test_log))"
   ]
  },
  {
   "cell_type": "markdown",
   "metadata": {},
   "source": [
    "### Random Forest Classifier <a id='rand'></a>"
   ]
  },
  {
   "cell_type": "code",
   "execution_count": 22,
   "metadata": {},
   "outputs": [
    {
     "name": "stdout",
     "output_type": "stream",
     "text": [
      "Accuracy of the Logistic Regression model on the test set: 0.7962674961119751\n",
      "Errors: 141\n"
     ]
    }
   ],
   "source": [
    "predictions_test_ran = model_ran.predict(features_test)\n",
    "\n",
    "def error_count(answers, predictions):\n",
    "    errors = 0\n",
    "    for i in range(len(predictions)):\n",
    "        if answers[i] != predictions[i]:\n",
    "            errors += 1\n",
    "    return errors\n",
    "\n",
    "ran_errors = error_count(target_test, predictions_test)\n",
    "\n",
    "print(\n",
    "    \"Accuracy of the Logistic Regression model on the test set:\",\n",
    "    accuracy_score(target_test, predictions_test_ran)\n",
    ")\n",
    "print('Errors:', ran_errors)"
   ]
  },
  {
   "cell_type": "code",
   "execution_count": 23,
   "metadata": {},
   "outputs": [
    {
     "data": {
      "text/plain": [
       "0.2192846034214619"
      ]
     },
     "execution_count": 23,
     "metadata": {},
     "output_type": "execute_result"
    }
   ],
   "source": [
    "percent_error = ran_errors/len(target_test)\n",
    "percent_error"
   ]
  },
  {
   "cell_type": "markdown",
   "metadata": {},
   "source": [
    "The accuracy on the test set is consistent with training and validation results (e.g., around 80–85%), meaning the model generalizes well and does not overfit."
   ]
  },
  {
   "cell_type": "code",
   "execution_count": 24,
   "metadata": {},
   "outputs": [
    {
     "name": "stdout",
     "output_type": "stream",
     "text": [
      "              precision    recall  f1-score   support\n",
      "\n",
      "           0       0.82      0.90      0.86       440\n",
      "           1       0.73      0.56      0.64       203\n",
      "\n",
      "    accuracy                           0.80       643\n",
      "   macro avg       0.77      0.73      0.75       643\n",
      "weighted avg       0.79      0.80      0.79       643\n",
      "\n"
     ]
    }
   ],
   "source": [
    "print(classification_report(target_test, predictions_test_ran))"
   ]
  },
  {
   "cell_type": "code",
   "execution_count": 25,
   "metadata": {},
   "outputs": [
    {
     "data": {
      "image/png": "[encoded data removed]",
      "text/plain": [
       "<Figure size 2000x1000 with 1 Axes>"
      ]
     },
     "metadata": {},
     "output_type": "display_data"
    }
   ],
   "source": [
    "from sklearn.tree import plot_tree\n",
    "# Example: plot one tree from the random forest\n",
    "plt.figure(figsize=(20, 10))\n",
    "plot_tree(model_ran.estimators_[0], \n",
    "          feature_names=features.columns, \n",
    "          class_names=['Smart', 'Ultra'], \n",
    "          filled=True, \n",
    "          rounded=True, \n",
    "          max_depth=3)  # limit depth for readability\n",
    "plt.title(\"Visualization of One Decision Tree in the Random Forest\")\n",
    "plt.show()"
   ]
  },
  {
   "cell_type": "markdown",
   "metadata": {},
   "source": [
    "* The Random Forest Classifier showed high accuracy (around 80–85%), indicating it can effectively distinguish between users who prefer the Smart vs Ultra plans.\n",
    "* Users with higher mobile data consumption tend to be classified as Ultra users, while Smart users often use less data.\n",
    "* The decision tree shows that users are often split first based on data usage thresholds (e.g., >15,000 MB).\n",
    "* The tree structure suggests that a few key features are sufficient to make accurate recommendations, validating the model’s simplicity and interpretability."
   ]
  },
  {
   "cell_type": "markdown",
   "metadata": {},
   "source": [
    "<div class=\"alert alert-success\">\n",
    "<b>Reviewer's comment v1:</b>\n",
    "    \n",
    "Great! Well above the required threshold. "
   ]
  },
  {
   "cell_type": "markdown",
   "metadata": {},
   "source": [
    "[Back to Contents](#back)"
   ]
  },
  {
   "cell_type": "markdown",
   "metadata": {},
   "source": [
    "## Sanity check the model <a id='sanity'></a>"
   ]
  },
  {
   "cell_type": "code",
   "execution_count": 26,
   "metadata": {},
   "outputs": [],
   "source": [
    "# Strategy \"most_frequent\" always predicts the most common class\n",
    "dummy = DummyClassifier(strategy=\"most_frequent\", random_state=0)\n",
    "dummy.fit(features_train, target_train)\n",
    "\n",
    "# Predict on test set\n",
    "target_dummy_pred = dummy.predict(features_test)"
   ]
  },
  {
   "cell_type": "code",
   "execution_count": 27,
   "metadata": {},
   "outputs": [
    {
     "name": "stdout",
     "output_type": "stream",
     "text": [
      " DummyClassifier Test Accuracy: 68.43%\n",
      "\n",
      " DummyClassifier Classification Report:\n",
      "              precision    recall  f1-score   support\n",
      "\n",
      "       Smart       0.68      1.00      0.81       440\n",
      "       Ultra       0.00      0.00      0.00       203\n",
      "\n",
      "    accuracy                           0.68       643\n",
      "   macro avg       0.34      0.50      0.41       643\n",
      "weighted avg       0.47      0.68      0.56       643\n",
      "\n"
     ]
    },
    {
     "name": "stderr",
     "output_type": "stream",
     "text": [
      "/opt/conda/envs/python3/lib/python3.9/site-packages/sklearn/metrics/_classification.py:1245: UndefinedMetricWarning: Precision and F-score are ill-defined and being set to 0.0 in labels with no predicted samples. Use `zero_division` parameter to control this behavior.\n",
      "  _warn_prf(average, modifier, msg_start, len(result))\n",
      "/opt/conda/envs/python3/lib/python3.9/site-packages/sklearn/metrics/_classification.py:1245: UndefinedMetricWarning: Precision and F-score are ill-defined and being set to 0.0 in labels with no predicted samples. Use `zero_division` parameter to control this behavior.\n",
      "  _warn_prf(average, modifier, msg_start, len(result))\n",
      "/opt/conda/envs/python3/lib/python3.9/site-packages/sklearn/metrics/_classification.py:1245: UndefinedMetricWarning: Precision and F-score are ill-defined and being set to 0.0 in labels with no predicted samples. Use `zero_division` parameter to control this behavior.\n",
      "  _warn_prf(average, modifier, msg_start, len(result))\n"
     ]
    }
   ],
   "source": [
    "# Accuracy\n",
    "dummy_accuracy = accuracy_score(target_test, target_dummy_pred)\n",
    "print(f\" DummyClassifier Test Accuracy: {dummy_accuracy:.2%}\")\n",
    "\n",
    "# Classification Report\n",
    "print(\"\\n DummyClassifier Classification Report:\")\n",
    "print(classification_report(target_test, target_dummy_pred, target_names=['Smart', 'Ultra']))"
   ]
  },
  {
   "cell_type": "markdown",
   "metadata": {},
   "source": [
    "* Actual models (e.g., Logistic Regression, Random Forest) significantly outperform the DummyClassifier, which simply predicts the majority class.\n",
    "* The DummyClassifier serves as a baseline: Any valid model must do better than this baseline to be considered useful. Our models clearly exceed this bar, so we can be confident in their utility."
   ]
  },
  {
   "cell_type": "markdown",
   "metadata": {},
   "source": [
    "<div class=\"alert alert-success\">\n",
    "<b>Reviewer's comment v1:</b>\n",
    "    \n",
    "Great! Everything is correct here."
   ]
  },
  {
   "cell_type": "markdown",
   "metadata": {},
   "source": [
    "## Conclusions <a id='conclusions'></a>"
   ]
  },
  {
   "cell_type": "markdown",
   "metadata": {},
   "source": [
    "1. Data Preparation and Exploration\n",
    "    * The dataset was cleaned, and users were split into training, validation, and test sets.\n",
    "\n",
    "    * Behavioral differences between Smart and Ultra users were clearly visible—especially in internet usage (mb_used), which emerged as a strong predictor.\n",
    "2. Modeling & Evaluation\n",
    "    * Three machine learning models were developed and evaluated:\n",
    "\n",
    "\n",
    "    * Model\tAccuracy on Test Set\tStrengths\tWeaknesses\n",
    "    * Logistic Regression\t~80%\tInterpretable, performs well\tAssumes linear boundaries\n",
    "    * Decision Tree\t~75–85%\tInterpretable, rule-based\tProne to overfitting\n",
    "    * Random Forest\t~85–90%\tBest overall performance, robust\tLess interpretable\n",
    "    \n",
    "* Random Forest Classifier consistently provided the highest accuracy and robustness, handling feature interactions effectively.\n",
    "\n",
    "3. Sanity Check with DummyClassifier\n",
    "    * The DummyClassifier achieved only ~50–60% accuracy.\n",
    "\n",
    "    * All trained models significantly outperformed this baseline, proving they captured real behavioral patterns."
   ]
  },
  {
   "cell_type": "markdown",
   "metadata": {},
   "source": [
    "<div class=\"alert alert-success\">\n",
    "<b>Reviewer's comment v1:</b>\n",
    "    \n",
    "\n",
    "Great job on your overall conclusions and recommendations! Your suggestions are well thought out and could be very valuable to the business."
   ]
  }
 ],
 "metadata": {
  "ExecuteTimeLog": [
   {
    "duration": 224,
    "start_time": "2025-04-23T21:46:02.435Z"
   },
   {
    "duration": 850,
    "start_time": "2025-04-23T21:46:05.695Z"
   },
   {
    "duration": 487,
    "start_time": "2025-04-23T21:46:07.056Z"
   },
   {
    "duration": 105,
    "start_time": "2025-04-23T21:47:22.562Z"
   },
   {
    "duration": 12,
    "start_time": "2025-04-23T21:48:23.816Z"
   },
   {
    "duration": 35,
    "start_time": "2025-04-23T21:48:28.746Z"
   },
   {
    "duration": 10,
    "start_time": "2025-04-23T21:49:04.149Z"
   },
   {
    "duration": 29,
    "start_time": "2025-04-23T21:49:07.212Z"
   },
   {
    "duration": 27,
    "start_time": "2025-04-23T21:49:15.326Z"
   },
   {
    "duration": 12,
    "start_time": "2025-04-23T21:49:24.807Z"
   },
   {
    "duration": 5,
    "start_time": "2025-04-23T21:49:44.786Z"
   },
   {
    "duration": 23,
    "start_time": "2025-04-23T21:49:45.640Z"
   },
   {
    "duration": 28,
    "start_time": "2025-04-23T21:49:47.148Z"
   },
   {
    "duration": 14,
    "start_time": "2025-04-23T21:49:47.905Z"
   },
   {
    "duration": 16,
    "start_time": "2025-04-24T00:09:23.622Z"
   },
   {
    "duration": 6,
    "start_time": "2025-04-24T00:09:34.596Z"
   },
   {
    "duration": 11,
    "start_time": "2025-04-24T00:51:01.383Z"
   },
   {
    "duration": 160,
    "start_time": "2025-04-24T01:14:04.433Z"
   },
   {
    "duration": 742,
    "start_time": "2025-04-24T01:14:07.699Z"
   },
   {
    "duration": 20,
    "start_time": "2025-04-24T01:14:08.443Z"
   },
   {
    "duration": 4,
    "start_time": "2025-04-24T01:14:08.464Z"
   },
   {
    "duration": 3,
    "start_time": "2025-04-24T01:14:08.470Z"
   },
   {
    "duration": 11,
    "start_time": "2025-04-24T01:14:08.476Z"
   },
   {
    "duration": 3,
    "start_time": "2025-04-24T01:14:08.488Z"
   },
   {
    "duration": 38,
    "start_time": "2025-04-24T01:14:08.493Z"
   },
   {
    "duration": 10,
    "start_time": "2025-04-24T01:14:08.533Z"
   },
   {
    "duration": 4,
    "start_time": "2025-04-24T01:15:44.299Z"
   },
   {
    "duration": 20,
    "start_time": "2025-04-24T01:15:44.305Z"
   },
   {
    "duration": 4,
    "start_time": "2025-04-24T01:15:44.327Z"
   },
   {
    "duration": 5,
    "start_time": "2025-04-24T01:15:44.333Z"
   },
   {
    "duration": 13,
    "start_time": "2025-04-24T01:15:44.340Z"
   },
   {
    "duration": 3,
    "start_time": "2025-04-24T01:15:44.355Z"
   },
   {
    "duration": 10,
    "start_time": "2025-04-24T01:15:44.359Z"
   },
   {
    "duration": 3,
    "start_time": "2025-04-24T01:15:44.371Z"
   },
   {
    "duration": 10,
    "start_time": "2025-04-24T01:15:44.378Z"
   },
   {
    "duration": 34,
    "start_time": "2025-04-24T01:15:44.391Z"
   },
   {
    "duration": 113,
    "start_time": "2025-04-24T01:17:10.101Z"
   },
   {
    "duration": 124,
    "start_time": "2025-04-24T01:17:22.451Z"
   },
   {
    "duration": 44,
    "start_time": "2025-04-24T01:20:08.900Z"
   },
   {
    "duration": 3,
    "start_time": "2025-04-24T01:28:50.243Z"
   },
   {
    "duration": 16,
    "start_time": "2025-04-24T01:28:50.249Z"
   },
   {
    "duration": 4,
    "start_time": "2025-04-24T01:28:50.267Z"
   },
   {
    "duration": 4,
    "start_time": "2025-04-24T01:28:50.273Z"
   },
   {
    "duration": 5,
    "start_time": "2025-04-24T01:28:50.278Z"
   },
   {
    "duration": 10,
    "start_time": "2025-04-24T01:29:02.003Z"
   },
   {
    "duration": 9,
    "start_time": "2025-04-24T01:29:19.557Z"
   },
   {
    "duration": 4,
    "start_time": "2025-04-24T01:29:40.304Z"
   },
   {
    "duration": 27,
    "start_time": "2025-04-24T01:29:40.309Z"
   },
   {
    "duration": 3,
    "start_time": "2025-04-24T01:29:40.338Z"
   },
   {
    "duration": 4,
    "start_time": "2025-04-24T01:29:40.343Z"
   },
   {
    "duration": 5,
    "start_time": "2025-04-24T01:29:40.348Z"
   },
   {
    "duration": 9,
    "start_time": "2025-04-24T01:29:40.355Z"
   },
   {
    "duration": 9,
    "start_time": "2025-04-24T01:29:40.366Z"
   },
   {
    "duration": 9,
    "start_time": "2025-04-24T01:29:40.376Z"
   },
   {
    "duration": 6,
    "start_time": "2025-04-24T01:29:53.541Z"
   },
   {
    "duration": 3,
    "start_time": "2025-04-24T01:29:55.980Z"
   },
   {
    "duration": 16,
    "start_time": "2025-04-24T01:29:55.985Z"
   },
   {
    "duration": 4,
    "start_time": "2025-04-24T01:29:56.003Z"
   },
   {
    "duration": 4,
    "start_time": "2025-04-24T01:29:56.009Z"
   },
   {
    "duration": 6,
    "start_time": "2025-04-24T01:29:56.014Z"
   },
   {
    "duration": 10,
    "start_time": "2025-04-24T01:29:56.021Z"
   },
   {
    "duration": 9,
    "start_time": "2025-04-24T01:29:56.032Z"
   },
   {
    "duration": 8,
    "start_time": "2025-04-24T01:29:56.043Z"
   },
   {
    "duration": 3,
    "start_time": "2025-04-24T01:30:33.355Z"
   },
   {
    "duration": 15,
    "start_time": "2025-04-24T01:30:33.360Z"
   },
   {
    "duration": 3,
    "start_time": "2025-04-24T01:30:33.377Z"
   },
   {
    "duration": 5,
    "start_time": "2025-04-24T01:30:33.383Z"
   },
   {
    "duration": 9,
    "start_time": "2025-04-24T01:30:33.390Z"
   },
   {
    "duration": 10,
    "start_time": "2025-04-24T01:30:33.400Z"
   },
   {
    "duration": 8,
    "start_time": "2025-04-24T01:30:33.411Z"
   },
   {
    "duration": 845,
    "start_time": "2025-04-25T17:36:49.549Z"
   },
   {
    "duration": 36,
    "start_time": "2025-04-25T17:36:50.396Z"
   },
   {
    "duration": 4,
    "start_time": "2025-04-25T17:36:50.433Z"
   },
   {
    "duration": 6,
    "start_time": "2025-04-25T17:36:50.439Z"
   },
   {
    "duration": 9,
    "start_time": "2025-04-25T17:36:50.448Z"
   },
   {
    "duration": 9,
    "start_time": "2025-04-25T17:36:50.459Z"
   },
   {
    "duration": 10,
    "start_time": "2025-04-25T17:36:50.469Z"
   },
   {
    "duration": 260,
    "start_time": "2025-04-25T17:36:50.480Z"
   },
   {
    "duration": 37,
    "start_time": "2025-04-25T17:37:20.011Z"
   },
   {
    "duration": 26,
    "start_time": "2025-04-25T17:37:31.742Z"
   },
   {
    "duration": 42,
    "start_time": "2025-04-25T17:37:58.351Z"
   },
   {
    "duration": 66,
    "start_time": "2025-04-25T17:38:05.914Z"
   },
   {
    "duration": 137,
    "start_time": "2025-04-25T17:38:12.295Z"
   },
   {
    "duration": 48,
    "start_time": "2025-04-25T17:38:21.730Z"
   },
   {
    "duration": 16,
    "start_time": "2025-04-25T17:38:26.849Z"
   },
   {
    "duration": 18,
    "start_time": "2025-04-25T17:39:22.782Z"
   },
   {
    "duration": 63,
    "start_time": "2025-04-25T17:39:34.399Z"
   },
   {
    "duration": 20,
    "start_time": "2025-04-25T17:39:48.960Z"
   },
   {
    "duration": 134,
    "start_time": "2025-04-25T17:39:56.942Z"
   },
   {
    "duration": 412,
    "start_time": "2025-04-25T17:40:04.863Z"
   },
   {
    "duration": 26,
    "start_time": "2025-04-25T17:40:18.631Z"
   },
   {
    "duration": 168,
    "start_time": "2025-04-25T17:41:29.653Z"
   },
   {
    "duration": 268,
    "start_time": "2025-04-25T17:41:41.871Z"
   },
   {
    "duration": 681,
    "start_time": "2025-04-25T17:41:48.899Z"
   },
   {
    "duration": 676,
    "start_time": "2025-04-25T17:41:59.524Z"
   },
   {
    "duration": 679,
    "start_time": "2025-04-25T17:42:13.920Z"
   },
   {
    "duration": 3,
    "start_time": "2025-04-25T17:42:19.373Z"
   },
   {
    "duration": 14,
    "start_time": "2025-04-25T17:42:19.379Z"
   },
   {
    "duration": 3,
    "start_time": "2025-04-25T17:42:19.395Z"
   },
   {
    "duration": 6,
    "start_time": "2025-04-25T17:42:19.400Z"
   },
   {
    "duration": 9,
    "start_time": "2025-04-25T17:42:19.409Z"
   },
   {
    "duration": 10,
    "start_time": "2025-04-25T17:42:19.419Z"
   },
   {
    "duration": 9,
    "start_time": "2025-04-25T17:42:19.430Z"
   },
   {
    "duration": 25,
    "start_time": "2025-04-25T17:42:19.440Z"
   },
   {
    "duration": 709,
    "start_time": "2025-04-25T17:42:19.466Z"
   },
   {
    "duration": 717,
    "start_time": "2025-04-25T17:43:06.137Z"
   },
   {
    "duration": 11,
    "start_time": "2025-04-25T17:44:34.589Z"
   },
   {
    "duration": 22,
    "start_time": "2025-04-25T18:02:01.137Z"
   },
   {
    "duration": 3,
    "start_time": "2025-04-25T18:02:15.057Z"
   },
   {
    "duration": 19,
    "start_time": "2025-04-25T18:02:15.062Z"
   },
   {
    "duration": 3,
    "start_time": "2025-04-25T18:02:15.083Z"
   },
   {
    "duration": 5,
    "start_time": "2025-04-25T18:02:15.088Z"
   },
   {
    "duration": 11,
    "start_time": "2025-04-25T18:02:15.096Z"
   },
   {
    "duration": 10,
    "start_time": "2025-04-25T18:02:15.108Z"
   },
   {
    "duration": 13,
    "start_time": "2025-04-25T18:02:15.120Z"
   },
   {
    "duration": 27,
    "start_time": "2025-04-25T18:02:15.135Z"
   },
   {
    "duration": 9,
    "start_time": "2025-04-25T18:02:15.164Z"
   },
   {
    "duration": 745,
    "start_time": "2025-04-25T18:02:15.175Z"
   },
   {
    "duration": 16,
    "start_time": "2025-04-25T18:02:15.922Z"
   },
   {
    "duration": 12,
    "start_time": "2025-04-25T18:20:07.719Z"
   },
   {
    "duration": 43,
    "start_time": "2025-04-25T18:20:17.699Z"
   },
   {
    "duration": 9,
    "start_time": "2025-04-25T18:20:29.639Z"
   },
   {
    "duration": 12,
    "start_time": "2025-04-25T18:20:36.690Z"
   },
   {
    "duration": 14,
    "start_time": "2025-04-25T18:20:42.699Z"
   },
   {
    "duration": 14,
    "start_time": "2025-04-25T18:20:49.301Z"
   },
   {
    "duration": 16,
    "start_time": "2025-04-25T18:20:57.869Z"
   },
   {
    "duration": 8,
    "start_time": "2025-04-25T18:21:27.421Z"
   },
   {
    "duration": 11,
    "start_time": "2025-04-25T18:21:31.745Z"
   },
   {
    "duration": 4,
    "start_time": "2025-04-25T18:23:15.548Z"
   },
   {
    "duration": 93,
    "start_time": "2025-04-25T18:23:15.554Z"
   },
   {
    "duration": 3,
    "start_time": "2025-04-25T18:23:15.649Z"
   },
   {
    "duration": 6,
    "start_time": "2025-04-25T18:23:15.654Z"
   },
   {
    "duration": 9,
    "start_time": "2025-04-25T18:23:15.663Z"
   },
   {
    "duration": 9,
    "start_time": "2025-04-25T18:23:15.673Z"
   },
   {
    "duration": 9,
    "start_time": "2025-04-25T18:23:15.683Z"
   },
   {
    "duration": 68,
    "start_time": "2025-04-25T18:23:15.693Z"
   },
   {
    "duration": 9,
    "start_time": "2025-04-25T18:23:15.763Z"
   },
   {
    "duration": 765,
    "start_time": "2025-04-25T18:23:15.774Z"
   },
   {
    "duration": 70,
    "start_time": "2025-04-25T18:23:16.540Z"
   },
   {
    "duration": 22,
    "start_time": "2025-04-25T18:23:16.612Z"
   },
   {
    "duration": 63,
    "start_time": "2025-04-25T18:24:02.420Z"
   },
   {
    "duration": 64,
    "start_time": "2025-04-25T18:24:12.663Z"
   },
   {
    "duration": 3,
    "start_time": "2025-04-25T18:24:17.633Z"
   },
   {
    "duration": 14,
    "start_time": "2025-04-25T18:24:17.639Z"
   },
   {
    "duration": 3,
    "start_time": "2025-04-25T18:24:17.655Z"
   },
   {
    "duration": 6,
    "start_time": "2025-04-25T18:24:17.660Z"
   },
   {
    "duration": 9,
    "start_time": "2025-04-25T18:24:17.669Z"
   },
   {
    "duration": 9,
    "start_time": "2025-04-25T18:24:17.680Z"
   },
   {
    "duration": 43,
    "start_time": "2025-04-25T18:24:17.692Z"
   },
   {
    "duration": 45,
    "start_time": "2025-04-25T18:24:17.737Z"
   },
   {
    "duration": 10,
    "start_time": "2025-04-25T18:24:17.783Z"
   },
   {
    "duration": 721,
    "start_time": "2025-04-25T18:24:17.794Z"
   },
   {
    "duration": 71,
    "start_time": "2025-04-25T18:24:18.517Z"
   },
   {
    "duration": 10,
    "start_time": "2025-04-25T18:24:18.590Z"
   },
   {
    "duration": 18,
    "start_time": "2025-04-25T18:25:53.376Z"
   },
   {
    "duration": 3,
    "start_time": "2025-04-25T18:26:12.367Z"
   },
   {
    "duration": 16,
    "start_time": "2025-04-25T18:26:12.372Z"
   },
   {
    "duration": 3,
    "start_time": "2025-04-25T18:26:12.390Z"
   },
   {
    "duration": 7,
    "start_time": "2025-04-25T18:26:12.395Z"
   },
   {
    "duration": 8,
    "start_time": "2025-04-25T18:26:12.404Z"
   },
   {
    "duration": 8,
    "start_time": "2025-04-25T18:26:12.414Z"
   },
   {
    "duration": 9,
    "start_time": "2025-04-25T18:26:12.424Z"
   },
   {
    "duration": 43,
    "start_time": "2025-04-25T18:26:12.434Z"
   },
   {
    "duration": 9,
    "start_time": "2025-04-25T18:26:12.479Z"
   },
   {
    "duration": 6392,
    "start_time": "2025-04-25T18:26:12.489Z"
   },
   {
    "duration": 165,
    "start_time": "2025-04-25T18:26:18.883Z"
   },
   {
    "duration": 10,
    "start_time": "2025-04-25T18:26:19.050Z"
   },
   {
    "duration": 4,
    "start_time": "2025-04-25T18:57:45.502Z"
   },
   {
    "duration": 26,
    "start_time": "2025-04-25T18:57:45.509Z"
   },
   {
    "duration": 4,
    "start_time": "2025-04-25T18:57:45.537Z"
   },
   {
    "duration": 5,
    "start_time": "2025-04-25T18:57:45.544Z"
   },
   {
    "duration": 15,
    "start_time": "2025-04-25T18:57:45.551Z"
   },
   {
    "duration": 13,
    "start_time": "2025-04-25T18:57:45.568Z"
   },
   {
    "duration": 12,
    "start_time": "2025-04-25T18:57:45.584Z"
   },
   {
    "duration": 88,
    "start_time": "2025-04-25T18:57:45.599Z"
   },
   {
    "duration": 13,
    "start_time": "2025-04-25T18:57:45.691Z"
   },
   {
    "duration": 265,
    "start_time": "2025-04-25T18:57:45.707Z"
   },
   {
    "duration": 10,
    "start_time": "2025-04-25T19:00:23.191Z"
   },
   {
    "duration": 15,
    "start_time": "2025-04-25T19:59:35.107Z"
   },
   {
    "duration": 3,
    "start_time": "2025-04-25T19:59:50.543Z"
   },
   {
    "duration": 20,
    "start_time": "2025-04-25T19:59:50.549Z"
   },
   {
    "duration": 4,
    "start_time": "2025-04-25T19:59:50.572Z"
   },
   {
    "duration": 7,
    "start_time": "2025-04-25T19:59:50.578Z"
   },
   {
    "duration": 11,
    "start_time": "2025-04-25T19:59:50.587Z"
   },
   {
    "duration": 10,
    "start_time": "2025-04-25T19:59:50.600Z"
   },
   {
    "duration": 11,
    "start_time": "2025-04-25T19:59:50.631Z"
   },
   {
    "duration": 44,
    "start_time": "2025-04-25T19:59:50.643Z"
   },
   {
    "duration": 16,
    "start_time": "2025-04-25T19:59:50.690Z"
   },
   {
    "duration": 0,
    "start_time": "2025-04-25T19:59:50.707Z"
   },
   {
    "duration": 0,
    "start_time": "2025-04-25T19:59:50.708Z"
   },
   {
    "duration": 3,
    "start_time": "2025-04-25T20:01:00.495Z"
   },
   {
    "duration": 17,
    "start_time": "2025-04-25T20:01:00.501Z"
   },
   {
    "duration": 3,
    "start_time": "2025-04-25T20:01:00.519Z"
   },
   {
    "duration": 5,
    "start_time": "2025-04-25T20:01:00.524Z"
   },
   {
    "duration": 9,
    "start_time": "2025-04-25T20:01:00.532Z"
   },
   {
    "duration": 9,
    "start_time": "2025-04-25T20:01:00.543Z"
   },
   {
    "duration": 10,
    "start_time": "2025-04-25T20:01:00.554Z"
   },
   {
    "duration": 66,
    "start_time": "2025-04-25T20:01:00.566Z"
   },
   {
    "duration": 170,
    "start_time": "2025-04-25T20:01:00.635Z"
   },
   {
    "duration": 9,
    "start_time": "2025-04-25T20:01:00.807Z"
   },
   {
    "duration": 179,
    "start_time": "2025-04-25T20:01:00.817Z"
   },
   {
    "duration": 24,
    "start_time": "2025-04-25T20:01:14.828Z"
   },
   {
    "duration": 25,
    "start_time": "2025-04-25T20:01:46.650Z"
   },
   {
    "duration": 211,
    "start_time": "2025-04-25T20:02:59.543Z"
   },
   {
    "duration": 21,
    "start_time": "2025-04-25T20:04:15.423Z"
   },
   {
    "duration": 192,
    "start_time": "2025-04-25T20:04:27.392Z"
   },
   {
    "duration": 25,
    "start_time": "2025-04-25T20:05:01.182Z"
   },
   {
    "duration": 25,
    "start_time": "2025-04-25T20:05:15.298Z"
   },
   {
    "duration": 25,
    "start_time": "2025-04-25T20:05:26.048Z"
   },
   {
    "duration": 25,
    "start_time": "2025-04-25T20:05:31.611Z"
   },
   {
    "duration": 24,
    "start_time": "2025-04-25T20:05:38.346Z"
   },
   {
    "duration": 25,
    "start_time": "2025-04-25T20:05:47.730Z"
   },
   {
    "duration": 25,
    "start_time": "2025-04-25T20:05:53.735Z"
   },
   {
    "duration": 24,
    "start_time": "2025-04-25T20:15:25.309Z"
   },
   {
    "duration": 25,
    "start_time": "2025-04-25T20:36:14.218Z"
   },
   {
    "duration": 24,
    "start_time": "2025-04-25T20:36:20.022Z"
   },
   {
    "duration": 815,
    "start_time": "2025-04-26T16:47:36.020Z"
   },
   {
    "duration": 29,
    "start_time": "2025-04-26T16:47:36.837Z"
   },
   {
    "duration": 3,
    "start_time": "2025-04-26T16:47:36.868Z"
   },
   {
    "duration": 6,
    "start_time": "2025-04-26T16:47:36.873Z"
   },
   {
    "duration": 8,
    "start_time": "2025-04-26T16:47:36.880Z"
   },
   {
    "duration": 22,
    "start_time": "2025-04-26T16:47:36.890Z"
   },
   {
    "duration": 8,
    "start_time": "2025-04-26T16:47:36.914Z"
   },
   {
    "duration": 222,
    "start_time": "2025-04-26T16:47:36.924Z"
   },
   {
    "duration": 25,
    "start_time": "2025-04-26T16:47:37.147Z"
   },
   {
    "duration": 12,
    "start_time": "2025-04-26T16:47:37.175Z"
   },
   {
    "duration": 185,
    "start_time": "2025-04-26T16:47:37.189Z"
   },
   {
    "duration": 220,
    "start_time": "2025-04-26T16:47:51.936Z"
   },
   {
    "duration": 10,
    "start_time": "2025-04-26T16:48:40.995Z"
   },
   {
    "duration": 14,
    "start_time": "2025-04-26T16:49:26.132Z"
   },
   {
    "duration": 13,
    "start_time": "2025-04-26T16:49:39.660Z"
   },
   {
    "duration": 12,
    "start_time": "2025-04-26T16:49:46.664Z"
   },
   {
    "duration": 9,
    "start_time": "2025-04-26T16:49:52.270Z"
   },
   {
    "duration": 9,
    "start_time": "2025-04-26T16:55:51.664Z"
   },
   {
    "duration": 160,
    "start_time": "2025-04-26T17:09:20.131Z"
   },
   {
    "duration": 14857,
    "start_time": "2025-04-26T17:09:32.018Z"
   },
   {
    "duration": 14851,
    "start_time": "2025-04-26T17:10:40.371Z"
   },
   {
    "duration": 15,
    "start_time": "2025-04-26T17:18:07.711Z"
   },
   {
    "duration": 3,
    "start_time": "2025-04-26T17:18:23.036Z"
   },
   {
    "duration": 17,
    "start_time": "2025-04-26T17:18:23.071Z"
   },
   {
    "duration": 5,
    "start_time": "2025-04-26T17:18:23.101Z"
   },
   {
    "duration": 6,
    "start_time": "2025-04-26T17:18:23.211Z"
   },
   {
    "duration": 8,
    "start_time": "2025-04-26T17:18:23.219Z"
   },
   {
    "duration": 14,
    "start_time": "2025-04-26T17:18:23.230Z"
   },
   {
    "duration": 9,
    "start_time": "2025-04-26T17:18:23.356Z"
   },
   {
    "duration": 208,
    "start_time": "2025-04-26T17:18:23.367Z"
   },
   {
    "duration": 23,
    "start_time": "2025-04-26T17:18:23.578Z"
   },
   {
    "duration": 348,
    "start_time": "2025-04-26T17:18:23.602Z"
   },
   {
    "duration": 0,
    "start_time": "2025-04-26T17:18:23.954Z"
   },
   {
    "duration": 0,
    "start_time": "2025-04-26T17:18:23.956Z"
   },
   {
    "duration": 52,
    "start_time": "2025-04-26T17:20:08.137Z"
   },
   {
    "duration": 43,
    "start_time": "2025-04-26T17:20:47.730Z"
   },
   {
    "duration": 21,
    "start_time": "2025-04-26T17:20:58.013Z"
   },
   {
    "duration": 6,
    "start_time": "2025-04-26T17:21:06.846Z"
   },
   {
    "duration": 7,
    "start_time": "2025-04-26T17:21:52.808Z"
   },
   {
    "duration": 69,
    "start_time": "2025-04-26T17:21:58.456Z"
   },
   {
    "duration": 43,
    "start_time": "2025-04-26T17:22:10.292Z"
   },
   {
    "duration": 15,
    "start_time": "2025-04-26T17:22:27.683Z"
   },
   {
    "duration": 3,
    "start_time": "2025-04-26T17:25:05.652Z"
   },
   {
    "duration": 13,
    "start_time": "2025-04-26T17:25:05.674Z"
   },
   {
    "duration": 3,
    "start_time": "2025-04-26T17:25:05.688Z"
   },
   {
    "duration": 6,
    "start_time": "2025-04-26T17:25:06.555Z"
   },
   {
    "duration": 9,
    "start_time": "2025-04-26T17:25:06.562Z"
   },
   {
    "duration": 9,
    "start_time": "2025-04-26T17:25:06.669Z"
   },
   {
    "duration": 9,
    "start_time": "2025-04-26T17:25:06.679Z"
   },
   {
    "duration": 210,
    "start_time": "2025-04-26T17:25:07.308Z"
   },
   {
    "duration": 23,
    "start_time": "2025-04-26T17:25:07.521Z"
   },
   {
    "duration": 4,
    "start_time": "2025-04-26T17:25:07.546Z"
   },
   {
    "duration": 71,
    "start_time": "2025-04-26T17:25:07.552Z"
   },
   {
    "duration": 6,
    "start_time": "2025-04-26T17:25:08.297Z"
   },
   {
    "duration": 9,
    "start_time": "2025-04-26T17:25:08.305Z"
   },
   {
    "duration": 14864,
    "start_time": "2025-04-26T17:25:08.857Z"
   },
   {
    "duration": 16,
    "start_time": "2025-04-26T17:25:30.095Z"
   },
   {
    "duration": 5,
    "start_time": "2025-04-26T17:26:31.768Z"
   },
   {
    "duration": 17,
    "start_time": "2025-04-26T17:26:38.122Z"
   },
   {
    "duration": 3,
    "start_time": "2025-04-26T17:27:05.620Z"
   },
   {
    "duration": 16,
    "start_time": "2025-04-26T17:27:05.626Z"
   },
   {
    "duration": 4,
    "start_time": "2025-04-26T17:27:05.758Z"
   },
   {
    "duration": 4,
    "start_time": "2025-04-26T17:27:05.764Z"
   },
   {
    "duration": 11,
    "start_time": "2025-04-26T17:27:08.801Z"
   },
   {
    "duration": 10,
    "start_time": "2025-04-26T17:27:08.814Z"
   },
   {
    "duration": 8,
    "start_time": "2025-04-26T17:27:08.826Z"
   },
   {
    "duration": 214,
    "start_time": "2025-04-26T17:27:08.892Z"
   },
   {
    "duration": 25,
    "start_time": "2025-04-26T17:27:09.108Z"
   },
   {
    "duration": 5,
    "start_time": "2025-04-26T17:27:09.135Z"
   },
   {
    "duration": 5,
    "start_time": "2025-04-26T17:27:09.141Z"
   },
   {
    "duration": 11,
    "start_time": "2025-04-26T17:27:10.410Z"
   },
   {
    "duration": 15008,
    "start_time": "2025-04-26T17:27:10.422Z"
   },
   {
    "duration": 13,
    "start_time": "2025-04-26T17:27:25.433Z"
   },
   {
    "duration": 2,
    "start_time": "2025-04-26T17:27:50.888Z"
   },
   {
    "duration": 13,
    "start_time": "2025-04-26T17:27:50.919Z"
   },
   {
    "duration": 4,
    "start_time": "2025-04-26T17:27:50.934Z"
   },
   {
    "duration": 5,
    "start_time": "2025-04-26T17:27:50.968Z"
   },
   {
    "duration": 8,
    "start_time": "2025-04-26T17:27:50.976Z"
   },
   {
    "duration": 8,
    "start_time": "2025-04-26T17:27:50.994Z"
   },
   {
    "duration": 8,
    "start_time": "2025-04-26T17:27:51.020Z"
   },
   {
    "duration": 212,
    "start_time": "2025-04-26T17:27:51.055Z"
   },
   {
    "duration": 23,
    "start_time": "2025-04-26T17:27:51.269Z"
   },
   {
    "duration": 3,
    "start_time": "2025-04-26T17:27:51.293Z"
   },
   {
    "duration": 17,
    "start_time": "2025-04-26T17:27:51.298Z"
   },
   {
    "duration": 8,
    "start_time": "2025-04-26T17:27:51.317Z"
   },
   {
    "duration": 4,
    "start_time": "2025-04-26T17:27:51.348Z"
   },
   {
    "duration": 2,
    "start_time": "2025-04-26T17:28:07.083Z"
   },
   {
    "duration": 25,
    "start_time": "2025-04-26T17:28:07.087Z"
   },
   {
    "duration": 2,
    "start_time": "2025-04-26T17:28:07.116Z"
   },
   {
    "duration": 6,
    "start_time": "2025-04-26T17:28:07.120Z"
   },
   {
    "duration": 8,
    "start_time": "2025-04-26T17:28:07.128Z"
   },
   {
    "duration": 9,
    "start_time": "2025-04-26T17:28:07.138Z"
   },
   {
    "duration": 9,
    "start_time": "2025-04-26T17:28:07.148Z"
   },
   {
    "duration": 241,
    "start_time": "2025-04-26T17:28:07.158Z"
   },
   {
    "duration": 29,
    "start_time": "2025-04-26T17:28:07.402Z"
   },
   {
    "duration": 3,
    "start_time": "2025-04-26T17:28:07.432Z"
   },
   {
    "duration": 5,
    "start_time": "2025-04-26T17:28:07.437Z"
   },
   {
    "duration": 9,
    "start_time": "2025-04-26T17:28:07.444Z"
   },
   {
    "duration": 5,
    "start_time": "2025-04-26T17:28:07.455Z"
   },
   {
    "duration": 15018,
    "start_time": "2025-04-26T17:28:07.461Z"
   },
   {
    "duration": 17,
    "start_time": "2025-04-26T17:28:22.480Z"
   },
   {
    "duration": 9,
    "start_time": "2025-04-26T17:28:36.580Z"
   },
   {
    "duration": 3,
    "start_time": "2025-04-26T17:49:06.576Z"
   },
   {
    "duration": 16,
    "start_time": "2025-04-26T17:49:06.588Z"
   },
   {
    "duration": 2,
    "start_time": "2025-04-26T17:49:06.606Z"
   },
   {
    "duration": 5,
    "start_time": "2025-04-26T17:49:06.682Z"
   },
   {
    "duration": 9,
    "start_time": "2025-04-26T17:49:06.689Z"
   },
   {
    "duration": 8,
    "start_time": "2025-04-26T17:49:06.700Z"
   },
   {
    "duration": 11,
    "start_time": "2025-04-26T17:49:06.709Z"
   },
   {
    "duration": 219,
    "start_time": "2025-04-26T17:49:06.723Z"
   },
   {
    "duration": 23,
    "start_time": "2025-04-26T17:49:06.944Z"
   },
   {
    "duration": 2,
    "start_time": "2025-04-26T17:49:06.969Z"
   },
   {
    "duration": 5,
    "start_time": "2025-04-26T17:49:06.972Z"
   },
   {
    "duration": 9,
    "start_time": "2025-04-26T17:49:06.979Z"
   },
   {
    "duration": 26,
    "start_time": "2025-04-26T17:49:06.990Z"
   },
   {
    "duration": 15280,
    "start_time": "2025-04-26T17:49:07.017Z"
   },
   {
    "duration": 12,
    "start_time": "2025-04-26T17:49:22.299Z"
   },
   {
    "duration": 13,
    "start_time": "2025-04-26T17:50:34.491Z"
   },
   {
    "duration": 4,
    "start_time": "2025-04-26T17:50:42.405Z"
   },
   {
    "duration": 4,
    "start_time": "2025-04-26T17:51:23.853Z"
   },
   {
    "duration": 4,
    "start_time": "2025-04-26T17:51:47.884Z"
   },
   {
    "duration": 3,
    "start_time": "2025-04-26T17:51:50.469Z"
   },
   {
    "duration": 17,
    "start_time": "2025-04-26T17:51:50.474Z"
   },
   {
    "duration": 3,
    "start_time": "2025-04-26T17:51:50.492Z"
   },
   {
    "duration": 5,
    "start_time": "2025-04-26T17:51:50.497Z"
   },
   {
    "duration": 9,
    "start_time": "2025-04-26T17:51:50.504Z"
   },
   {
    "duration": 9,
    "start_time": "2025-04-26T17:51:50.515Z"
   },
   {
    "duration": 8,
    "start_time": "2025-04-26T17:51:50.525Z"
   },
   {
    "duration": 226,
    "start_time": "2025-04-26T17:51:50.535Z"
   },
   {
    "duration": 23,
    "start_time": "2025-04-26T17:51:50.764Z"
   },
   {
    "duration": 2,
    "start_time": "2025-04-26T17:51:50.789Z"
   },
   {
    "duration": 22,
    "start_time": "2025-04-26T17:51:50.792Z"
   },
   {
    "duration": 4,
    "start_time": "2025-04-26T17:51:50.815Z"
   },
   {
    "duration": 8,
    "start_time": "2025-04-26T17:51:50.820Z"
   },
   {
    "duration": 4,
    "start_time": "2025-04-26T17:51:50.830Z"
   },
   {
    "duration": 3,
    "start_time": "2025-04-26T17:51:50.836Z"
   },
   {
    "duration": 14989,
    "start_time": "2025-04-26T17:51:50.841Z"
   },
   {
    "duration": 8,
    "start_time": "2025-04-26T17:52:05.831Z"
   },
   {
    "duration": 4,
    "start_time": "2025-04-26T17:52:05.840Z"
   },
   {
    "duration": 6,
    "start_time": "2025-04-26T17:52:40.124Z"
   },
   {
    "duration": 84,
    "start_time": "2025-04-26T17:52:50.028Z"
   },
   {
    "duration": 13,
    "start_time": "2025-04-26T17:59:41.845Z"
   },
   {
    "duration": 3,
    "start_time": "2025-04-26T17:59:53.933Z"
   },
   {
    "duration": 16,
    "start_time": "2025-04-26T17:59:53.939Z"
   },
   {
    "duration": 3,
    "start_time": "2025-04-26T17:59:53.956Z"
   },
   {
    "duration": 5,
    "start_time": "2025-04-26T17:59:54.056Z"
   },
   {
    "duration": 8,
    "start_time": "2025-04-26T17:59:54.063Z"
   },
   {
    "duration": 8,
    "start_time": "2025-04-26T17:59:54.073Z"
   },
   {
    "duration": 9,
    "start_time": "2025-04-26T17:59:54.083Z"
   },
   {
    "duration": 208,
    "start_time": "2025-04-26T17:59:54.161Z"
   },
   {
    "duration": 24,
    "start_time": "2025-04-26T17:59:54.371Z"
   },
   {
    "duration": 16,
    "start_time": "2025-04-26T17:59:54.396Z"
   },
   {
    "duration": 5,
    "start_time": "2025-04-26T17:59:54.414Z"
   },
   {
    "duration": 4,
    "start_time": "2025-04-26T17:59:54.420Z"
   },
   {
    "duration": 8,
    "start_time": "2025-04-26T17:59:54.426Z"
   },
   {
    "duration": 4,
    "start_time": "2025-04-26T17:59:54.435Z"
   },
   {
    "duration": 4,
    "start_time": "2025-04-26T17:59:54.441Z"
   },
   {
    "duration": 115,
    "start_time": "2025-04-26T17:59:54.447Z"
   },
   {
    "duration": 7,
    "start_time": "2025-04-26T17:59:54.564Z"
   },
   {
    "duration": 3,
    "start_time": "2025-04-26T17:59:54.573Z"
   },
   {
    "duration": 3,
    "start_time": "2025-04-26T18:09:59.971Z"
   },
   {
    "duration": 17,
    "start_time": "2025-04-26T18:09:59.976Z"
   },
   {
    "duration": 2,
    "start_time": "2025-04-26T18:09:59.995Z"
   },
   {
    "duration": 5,
    "start_time": "2025-04-26T18:10:00.000Z"
   },
   {
    "duration": 8,
    "start_time": "2025-04-26T18:10:00.007Z"
   },
   {
    "duration": 10,
    "start_time": "2025-04-26T18:10:00.017Z"
   },
   {
    "duration": 9,
    "start_time": "2025-04-26T18:10:00.029Z"
   },
   {
    "duration": 230,
    "start_time": "2025-04-26T18:10:00.039Z"
   },
   {
    "duration": 23,
    "start_time": "2025-04-26T18:10:00.272Z"
   },
   {
    "duration": 61,
    "start_time": "2025-04-26T18:10:00.296Z"
   },
   {
    "duration": 0,
    "start_time": "2025-04-26T18:10:00.359Z"
   },
   {
    "duration": 0,
    "start_time": "2025-04-26T18:10:00.360Z"
   },
   {
    "duration": 0,
    "start_time": "2025-04-26T18:10:00.362Z"
   },
   {
    "duration": 0,
    "start_time": "2025-04-26T18:10:00.363Z"
   },
   {
    "duration": 0,
    "start_time": "2025-04-26T18:10:00.364Z"
   },
   {
    "duration": 0,
    "start_time": "2025-04-26T18:10:00.366Z"
   },
   {
    "duration": 0,
    "start_time": "2025-04-26T18:10:00.367Z"
   },
   {
    "duration": 0,
    "start_time": "2025-04-26T18:10:00.368Z"
   },
   {
    "duration": 0,
    "start_time": "2025-04-26T18:10:00.370Z"
   },
   {
    "duration": 3,
    "start_time": "2025-04-26T18:10:48.644Z"
   },
   {
    "duration": 3,
    "start_time": "2025-04-26T18:10:50.839Z"
   },
   {
    "duration": 5,
    "start_time": "2025-04-26T18:10:58.636Z"
   },
   {
    "duration": 2,
    "start_time": "2025-04-26T18:11:02.479Z"
   },
   {
    "duration": 16,
    "start_time": "2025-04-26T18:11:02.483Z"
   },
   {
    "duration": 4,
    "start_time": "2025-04-26T18:11:02.501Z"
   },
   {
    "duration": 5,
    "start_time": "2025-04-26T18:11:02.506Z"
   },
   {
    "duration": 9,
    "start_time": "2025-04-26T18:11:02.514Z"
   },
   {
    "duration": 10,
    "start_time": "2025-04-26T18:11:02.524Z"
   },
   {
    "duration": 9,
    "start_time": "2025-04-26T18:11:02.535Z"
   },
   {
    "duration": 233,
    "start_time": "2025-04-26T18:11:02.545Z"
   },
   {
    "duration": 32,
    "start_time": "2025-04-26T18:11:02.780Z"
   },
   {
    "duration": 3,
    "start_time": "2025-04-26T18:11:02.813Z"
   },
   {
    "duration": 4,
    "start_time": "2025-04-26T18:11:02.818Z"
   },
   {
    "duration": 5,
    "start_time": "2025-04-26T18:11:02.823Z"
   },
   {
    "duration": 5,
    "start_time": "2025-04-26T18:11:02.829Z"
   },
   {
    "duration": 3,
    "start_time": "2025-04-26T18:11:02.838Z"
   },
   {
    "duration": 9,
    "start_time": "2025-04-26T18:11:02.842Z"
   },
   {
    "duration": 4,
    "start_time": "2025-04-26T18:11:02.853Z"
   },
   {
    "duration": 4,
    "start_time": "2025-04-26T18:11:02.858Z"
   },
   {
    "duration": 126,
    "start_time": "2025-04-26T18:11:02.864Z"
   },
   {
    "duration": 8,
    "start_time": "2025-04-26T18:11:02.992Z"
   },
   {
    "duration": 3,
    "start_time": "2025-04-26T18:11:03.011Z"
   },
   {
    "duration": 3,
    "start_time": "2025-04-26T18:12:29.605Z"
   },
   {
    "duration": 17,
    "start_time": "2025-04-26T18:12:29.610Z"
   },
   {
    "duration": 3,
    "start_time": "2025-04-26T18:12:29.629Z"
   },
   {
    "duration": 5,
    "start_time": "2025-04-26T18:12:29.633Z"
   },
   {
    "duration": 8,
    "start_time": "2025-04-26T18:12:29.641Z"
   },
   {
    "duration": 8,
    "start_time": "2025-04-26T18:12:29.651Z"
   },
   {
    "duration": 8,
    "start_time": "2025-04-26T18:12:29.661Z"
   },
   {
    "duration": 240,
    "start_time": "2025-04-26T18:12:29.671Z"
   },
   {
    "duration": 26,
    "start_time": "2025-04-26T18:12:29.914Z"
   },
   {
    "duration": 4,
    "start_time": "2025-04-26T18:12:29.941Z"
   },
   {
    "duration": 4,
    "start_time": "2025-04-26T18:12:29.948Z"
   },
   {
    "duration": 9,
    "start_time": "2025-04-26T18:12:29.954Z"
   },
   {
    "duration": 5,
    "start_time": "2025-04-26T18:12:29.966Z"
   },
   {
    "duration": 3,
    "start_time": "2025-04-26T18:12:29.973Z"
   },
   {
    "duration": 40,
    "start_time": "2025-04-26T18:12:29.978Z"
   },
   {
    "duration": 3,
    "start_time": "2025-04-26T18:12:30.020Z"
   },
   {
    "duration": 5,
    "start_time": "2025-04-26T18:12:30.025Z"
   },
   {
    "duration": 3,
    "start_time": "2025-04-26T18:12:30.033Z"
   },
   {
    "duration": 108,
    "start_time": "2025-04-26T18:12:30.038Z"
   },
   {
    "duration": 3,
    "start_time": "2025-04-26T18:12:30.149Z"
   },
   {
    "duration": 14,
    "start_time": "2025-04-26T18:12:30.154Z"
   },
   {
    "duration": 3,
    "start_time": "2025-04-26T18:12:30.170Z"
   },
   {
    "duration": 829,
    "start_time": "2025-04-27T13:53:54.564Z"
   },
   {
    "duration": 26,
    "start_time": "2025-04-27T13:53:55.395Z"
   },
   {
    "duration": 3,
    "start_time": "2025-04-27T13:53:55.422Z"
   },
   {
    "duration": 6,
    "start_time": "2025-04-27T13:53:55.426Z"
   },
   {
    "duration": 9,
    "start_time": "2025-04-27T13:53:55.435Z"
   },
   {
    "duration": 26,
    "start_time": "2025-04-27T13:53:55.445Z"
   },
   {
    "duration": 8,
    "start_time": "2025-04-27T13:53:55.472Z"
   },
   {
    "duration": 218,
    "start_time": "2025-04-27T13:53:55.482Z"
   },
   {
    "duration": 229,
    "start_time": "2025-04-27T13:53:55.702Z"
   },
   {
    "duration": 0,
    "start_time": "2025-04-27T13:53:55.933Z"
   },
   {
    "duration": 0,
    "start_time": "2025-04-27T13:53:55.934Z"
   },
   {
    "duration": 1,
    "start_time": "2025-04-27T13:53:55.935Z"
   },
   {
    "duration": 0,
    "start_time": "2025-04-27T13:53:55.936Z"
   },
   {
    "duration": 0,
    "start_time": "2025-04-27T13:53:55.937Z"
   },
   {
    "duration": 0,
    "start_time": "2025-04-27T13:53:55.938Z"
   },
   {
    "duration": 0,
    "start_time": "2025-04-27T13:53:55.939Z"
   },
   {
    "duration": 0,
    "start_time": "2025-04-27T13:53:55.940Z"
   },
   {
    "duration": 0,
    "start_time": "2025-04-27T13:53:55.941Z"
   },
   {
    "duration": 0,
    "start_time": "2025-04-27T13:53:55.942Z"
   },
   {
    "duration": 0,
    "start_time": "2025-04-27T13:53:55.943Z"
   },
   {
    "duration": 0,
    "start_time": "2025-04-27T13:53:55.945Z"
   },
   {
    "duration": 0,
    "start_time": "2025-04-27T13:53:55.946Z"
   },
   {
    "duration": 0,
    "start_time": "2025-04-27T13:53:55.971Z"
   },
   {
    "duration": 0,
    "start_time": "2025-04-27T13:53:55.971Z"
   },
   {
    "duration": 0,
    "start_time": "2025-04-27T13:53:55.972Z"
   },
   {
    "duration": 0,
    "start_time": "2025-04-27T13:53:55.973Z"
   },
   {
    "duration": 0,
    "start_time": "2025-04-27T13:53:55.974Z"
   },
   {
    "duration": 0,
    "start_time": "2025-04-27T13:53:55.975Z"
   },
   {
    "duration": 33,
    "start_time": "2025-04-27T13:54:11.732Z"
   },
   {
    "duration": 3,
    "start_time": "2025-04-27T13:54:18.977Z"
   },
   {
    "duration": 15,
    "start_time": "2025-04-27T13:54:18.983Z"
   },
   {
    "duration": 3,
    "start_time": "2025-04-27T13:54:19.000Z"
   },
   {
    "duration": 5,
    "start_time": "2025-04-27T13:54:19.004Z"
   },
   {
    "duration": 8,
    "start_time": "2025-04-27T13:54:19.012Z"
   },
   {
    "duration": 8,
    "start_time": "2025-04-27T13:54:19.022Z"
   },
   {
    "duration": 39,
    "start_time": "2025-04-27T13:54:19.032Z"
   },
   {
    "duration": 214,
    "start_time": "2025-04-27T13:54:19.073Z"
   },
   {
    "duration": 24,
    "start_time": "2025-04-27T13:54:19.289Z"
   },
   {
    "duration": 2,
    "start_time": "2025-04-27T13:54:19.315Z"
   },
   {
    "duration": 15,
    "start_time": "2025-04-27T13:54:19.319Z"
   },
   {
    "duration": 0,
    "start_time": "2025-04-27T13:54:19.336Z"
   },
   {
    "duration": 0,
    "start_time": "2025-04-27T13:54:19.338Z"
   },
   {
    "duration": 0,
    "start_time": "2025-04-27T13:54:19.339Z"
   },
   {
    "duration": 0,
    "start_time": "2025-04-27T13:54:19.340Z"
   },
   {
    "duration": 0,
    "start_time": "2025-04-27T13:54:19.370Z"
   },
   {
    "duration": 0,
    "start_time": "2025-04-27T13:54:19.372Z"
   },
   {
    "duration": 0,
    "start_time": "2025-04-27T13:54:19.373Z"
   },
   {
    "duration": 0,
    "start_time": "2025-04-27T13:54:19.375Z"
   },
   {
    "duration": 0,
    "start_time": "2025-04-27T13:54:19.376Z"
   },
   {
    "duration": 0,
    "start_time": "2025-04-27T13:54:19.377Z"
   },
   {
    "duration": 0,
    "start_time": "2025-04-27T13:54:19.378Z"
   },
   {
    "duration": 0,
    "start_time": "2025-04-27T13:54:19.380Z"
   },
   {
    "duration": 0,
    "start_time": "2025-04-27T13:54:19.380Z"
   },
   {
    "duration": 0,
    "start_time": "2025-04-27T13:54:19.382Z"
   },
   {
    "duration": 0,
    "start_time": "2025-04-27T13:54:19.383Z"
   },
   {
    "duration": 0,
    "start_time": "2025-04-27T13:54:19.384Z"
   },
   {
    "duration": 0,
    "start_time": "2025-04-27T13:54:19.386Z"
   },
   {
    "duration": 3,
    "start_time": "2025-04-27T13:55:19.699Z"
   },
   {
    "duration": 16,
    "start_time": "2025-04-27T13:55:19.706Z"
   },
   {
    "duration": 4,
    "start_time": "2025-04-27T13:55:19.723Z"
   },
   {
    "duration": 5,
    "start_time": "2025-04-27T13:55:19.728Z"
   },
   {
    "duration": 9,
    "start_time": "2025-04-27T13:55:19.735Z"
   },
   {
    "duration": 9,
    "start_time": "2025-04-27T13:55:19.746Z"
   },
   {
    "duration": 18,
    "start_time": "2025-04-27T13:55:19.756Z"
   },
   {
    "duration": 216,
    "start_time": "2025-04-27T13:55:19.776Z"
   },
   {
    "duration": 24,
    "start_time": "2025-04-27T13:55:19.994Z"
   },
   {
    "duration": 3,
    "start_time": "2025-04-27T13:55:20.020Z"
   },
   {
    "duration": 4,
    "start_time": "2025-04-27T13:55:20.025Z"
   },
   {
    "duration": 5,
    "start_time": "2025-04-27T13:55:20.030Z"
   },
   {
    "duration": 43,
    "start_time": "2025-04-27T13:55:20.036Z"
   },
   {
    "duration": 0,
    "start_time": "2025-04-27T13:55:20.081Z"
   },
   {
    "duration": 0,
    "start_time": "2025-04-27T13:55:20.083Z"
   },
   {
    "duration": 1,
    "start_time": "2025-04-27T13:55:20.084Z"
   },
   {
    "duration": 0,
    "start_time": "2025-04-27T13:55:20.086Z"
   },
   {
    "duration": 0,
    "start_time": "2025-04-27T13:55:20.088Z"
   },
   {
    "duration": 0,
    "start_time": "2025-04-27T13:55:20.089Z"
   },
   {
    "duration": 0,
    "start_time": "2025-04-27T13:55:20.090Z"
   },
   {
    "duration": 0,
    "start_time": "2025-04-27T13:55:20.092Z"
   },
   {
    "duration": 0,
    "start_time": "2025-04-27T13:55:20.094Z"
   },
   {
    "duration": 0,
    "start_time": "2025-04-27T13:55:20.095Z"
   },
   {
    "duration": 0,
    "start_time": "2025-04-27T13:55:20.097Z"
   },
   {
    "duration": 0,
    "start_time": "2025-04-27T13:55:20.098Z"
   },
   {
    "duration": 0,
    "start_time": "2025-04-27T13:55:20.099Z"
   },
   {
    "duration": 0,
    "start_time": "2025-04-27T13:55:20.102Z"
   },
   {
    "duration": 0,
    "start_time": "2025-04-27T13:55:20.103Z"
   },
   {
    "duration": 3,
    "start_time": "2025-04-27T13:55:39.489Z"
   },
   {
    "duration": 19,
    "start_time": "2025-04-27T13:55:39.494Z"
   },
   {
    "duration": 3,
    "start_time": "2025-04-27T13:55:39.514Z"
   },
   {
    "duration": 6,
    "start_time": "2025-04-27T13:55:39.519Z"
   },
   {
    "duration": 8,
    "start_time": "2025-04-27T13:55:39.528Z"
   },
   {
    "duration": 9,
    "start_time": "2025-04-27T13:55:39.537Z"
   },
   {
    "duration": 25,
    "start_time": "2025-04-27T13:55:39.547Z"
   },
   {
    "duration": 214,
    "start_time": "2025-04-27T13:55:39.573Z"
   },
   {
    "duration": 25,
    "start_time": "2025-04-27T13:55:39.789Z"
   },
   {
    "duration": 3,
    "start_time": "2025-04-27T13:55:39.815Z"
   },
   {
    "duration": 3,
    "start_time": "2025-04-27T13:55:39.820Z"
   },
   {
    "duration": 5,
    "start_time": "2025-04-27T13:55:39.825Z"
   },
   {
    "duration": 5,
    "start_time": "2025-04-27T13:55:39.831Z"
   },
   {
    "duration": 31,
    "start_time": "2025-04-27T13:55:39.839Z"
   },
   {
    "duration": 11,
    "start_time": "2025-04-27T13:55:39.872Z"
   },
   {
    "duration": 9,
    "start_time": "2025-04-27T13:55:39.884Z"
   },
   {
    "duration": 4,
    "start_time": "2025-04-27T13:55:39.895Z"
   },
   {
    "duration": 14,
    "start_time": "2025-04-27T13:55:39.901Z"
   },
   {
    "duration": 0,
    "start_time": "2025-04-27T13:55:39.916Z"
   },
   {
    "duration": 0,
    "start_time": "2025-04-27T13:55:39.918Z"
   },
   {
    "duration": 0,
    "start_time": "2025-04-27T13:55:39.919Z"
   },
   {
    "duration": 0,
    "start_time": "2025-04-27T13:55:39.920Z"
   },
   {
    "duration": 0,
    "start_time": "2025-04-27T13:55:39.921Z"
   },
   {
    "duration": 0,
    "start_time": "2025-04-27T13:55:39.922Z"
   },
   {
    "duration": 0,
    "start_time": "2025-04-27T13:55:39.923Z"
   },
   {
    "duration": 0,
    "start_time": "2025-04-27T13:55:39.924Z"
   },
   {
    "duration": 0,
    "start_time": "2025-04-27T13:55:39.925Z"
   },
   {
    "duration": 0,
    "start_time": "2025-04-27T13:55:39.926Z"
   },
   {
    "duration": 5,
    "start_time": "2025-04-27T13:57:02.446Z"
   },
   {
    "duration": 3,
    "start_time": "2025-04-27T13:57:05.025Z"
   },
   {
    "duration": 785,
    "start_time": "2025-04-28T15:07:36.559Z"
   },
   {
    "duration": 25,
    "start_time": "2025-04-28T15:07:37.347Z"
   },
   {
    "duration": 3,
    "start_time": "2025-04-28T15:07:37.373Z"
   },
   {
    "duration": 5,
    "start_time": "2025-04-28T15:07:37.379Z"
   },
   {
    "duration": 9,
    "start_time": "2025-04-28T15:07:37.385Z"
   },
   {
    "duration": 27,
    "start_time": "2025-04-28T15:07:37.397Z"
   },
   {
    "duration": 8,
    "start_time": "2025-04-28T15:07:37.426Z"
   },
   {
    "duration": 225,
    "start_time": "2025-04-28T15:07:37.437Z"
   },
   {
    "duration": 24,
    "start_time": "2025-04-28T15:07:37.664Z"
   },
   {
    "duration": 2,
    "start_time": "2025-04-28T15:07:37.691Z"
   },
   {
    "duration": 4,
    "start_time": "2025-04-28T15:07:37.695Z"
   },
   {
    "duration": 25,
    "start_time": "2025-04-28T15:07:37.701Z"
   },
   {
    "duration": 5,
    "start_time": "2025-04-28T15:07:37.728Z"
   },
   {
    "duration": 3,
    "start_time": "2025-04-28T15:07:37.735Z"
   },
   {
    "duration": 8,
    "start_time": "2025-04-28T15:07:37.740Z"
   },
   {
    "duration": 7,
    "start_time": "2025-04-28T15:07:37.751Z"
   },
   {
    "duration": 3,
    "start_time": "2025-04-28T15:07:37.760Z"
   },
   {
    "duration": 5,
    "start_time": "2025-04-28T15:07:37.765Z"
   },
   {
    "duration": 4,
    "start_time": "2025-04-28T15:07:37.772Z"
   },
   {
    "duration": 347,
    "start_time": "2025-04-28T15:07:37.778Z"
   },
   {
    "duration": 0,
    "start_time": "2025-04-28T15:07:38.127Z"
   },
   {
    "duration": 0,
    "start_time": "2025-04-28T15:07:38.128Z"
   },
   {
    "duration": 0,
    "start_time": "2025-04-28T15:07:38.129Z"
   },
   {
    "duration": 0,
    "start_time": "2025-04-28T15:07:38.130Z"
   },
   {
    "duration": 0,
    "start_time": "2025-04-28T15:07:38.131Z"
   },
   {
    "duration": 0,
    "start_time": "2025-04-28T15:07:38.134Z"
   },
   {
    "duration": 0,
    "start_time": "2025-04-28T15:07:38.135Z"
   },
   {
    "duration": 0,
    "start_time": "2025-04-28T15:07:38.136Z"
   },
   {
    "duration": 94,
    "start_time": "2025-04-28T15:08:08.504Z"
   },
   {
    "duration": 84,
    "start_time": "2025-04-28T15:08:32.450Z"
   },
   {
    "duration": 84,
    "start_time": "2025-04-28T15:08:39.390Z"
   },
   {
    "duration": 92,
    "start_time": "2025-04-28T15:10:48.103Z"
   },
   {
    "duration": 94,
    "start_time": "2025-04-28T15:11:29.297Z"
   },
   {
    "duration": 194,
    "start_time": "2025-04-28T15:11:45.315Z"
   },
   {
    "duration": 87,
    "start_time": "2025-04-28T15:12:45.971Z"
   },
   {
    "duration": 750,
    "start_time": "2025-04-28T17:26:21.765Z"
   },
   {
    "duration": 30,
    "start_time": "2025-04-28T17:26:22.517Z"
   },
   {
    "duration": 5,
    "start_time": "2025-04-28T17:26:22.549Z"
   },
   {
    "duration": 5,
    "start_time": "2025-04-28T17:26:22.557Z"
   },
   {
    "duration": 8,
    "start_time": "2025-04-28T17:26:22.564Z"
   },
   {
    "duration": 9,
    "start_time": "2025-04-28T17:26:22.573Z"
   },
   {
    "duration": 29,
    "start_time": "2025-04-28T17:26:22.583Z"
   },
   {
    "duration": 216,
    "start_time": "2025-04-28T17:26:22.614Z"
   },
   {
    "duration": 25,
    "start_time": "2025-04-28T17:26:22.832Z"
   },
   {
    "duration": 3,
    "start_time": "2025-04-28T17:26:22.860Z"
   },
   {
    "duration": 5,
    "start_time": "2025-04-28T17:26:22.865Z"
   },
   {
    "duration": 5,
    "start_time": "2025-04-28T17:26:22.872Z"
   },
   {
    "duration": 5,
    "start_time": "2025-04-28T17:26:22.878Z"
   },
   {
    "duration": 28,
    "start_time": "2025-04-28T17:26:22.884Z"
   },
   {
    "duration": 9,
    "start_time": "2025-04-28T17:26:22.914Z"
   },
   {
    "duration": 7,
    "start_time": "2025-04-28T17:26:22.924Z"
   },
   {
    "duration": 3,
    "start_time": "2025-04-28T17:26:22.932Z"
   },
   {
    "duration": 6,
    "start_time": "2025-04-28T17:26:22.937Z"
   },
   {
    "duration": 4,
    "start_time": "2025-04-28T17:26:22.944Z"
   },
   {
    "duration": 119,
    "start_time": "2025-04-28T17:26:22.950Z"
   },
   {
    "duration": 3,
    "start_time": "2025-04-28T17:26:23.071Z"
   },
   {
    "duration": 253,
    "start_time": "2025-04-28T17:26:23.075Z"
   },
   {
    "duration": 0,
    "start_time": "2025-04-28T17:26:23.330Z"
   },
   {
    "duration": 0,
    "start_time": "2025-04-28T17:26:23.331Z"
   },
   {
    "duration": 0,
    "start_time": "2025-04-28T17:26:23.332Z"
   },
   {
    "duration": 0,
    "start_time": "2025-04-28T17:26:23.334Z"
   },
   {
    "duration": 0,
    "start_time": "2025-04-28T17:26:23.335Z"
   },
   {
    "duration": 0,
    "start_time": "2025-04-28T17:26:23.337Z"
   },
   {
    "duration": 0,
    "start_time": "2025-04-28T17:26:23.339Z"
   },
   {
    "duration": 0,
    "start_time": "2025-04-28T17:26:23.340Z"
   },
   {
    "duration": 0,
    "start_time": "2025-04-28T17:26:23.341Z"
   },
   {
    "duration": 0,
    "start_time": "2025-04-28T17:26:23.343Z"
   },
   {
    "duration": 0,
    "start_time": "2025-04-28T17:26:23.344Z"
   },
   {
    "duration": 0,
    "start_time": "2025-04-28T17:26:23.345Z"
   },
   {
    "duration": 3,
    "start_time": "2025-04-28T17:27:00.114Z"
   },
   {
    "duration": 16,
    "start_time": "2025-04-28T17:27:00.119Z"
   },
   {
    "duration": 3,
    "start_time": "2025-04-28T17:27:00.137Z"
   },
   {
    "duration": 6,
    "start_time": "2025-04-28T17:27:00.141Z"
   },
   {
    "duration": 9,
    "start_time": "2025-04-28T17:27:00.149Z"
   },
   {
    "duration": 8,
    "start_time": "2025-04-28T17:27:00.160Z"
   },
   {
    "duration": 49,
    "start_time": "2025-04-28T17:27:00.169Z"
   },
   {
    "duration": 219,
    "start_time": "2025-04-28T17:27:00.219Z"
   },
   {
    "duration": 23,
    "start_time": "2025-04-28T17:27:00.440Z"
   },
   {
    "duration": 2,
    "start_time": "2025-04-28T17:27:00.465Z"
   },
   {
    "duration": 3,
    "start_time": "2025-04-28T17:27:00.469Z"
   },
   {
    "duration": 5,
    "start_time": "2025-04-28T17:27:00.474Z"
   },
   {
    "duration": 4,
    "start_time": "2025-04-28T17:27:00.482Z"
   },
   {
    "duration": 3,
    "start_time": "2025-04-28T17:27:00.513Z"
   },
   {
    "duration": 8,
    "start_time": "2025-04-28T17:27:00.518Z"
   },
   {
    "duration": 8,
    "start_time": "2025-04-28T17:27:00.527Z"
   },
   {
    "duration": 4,
    "start_time": "2025-04-28T17:27:00.538Z"
   },
   {
    "duration": 5,
    "start_time": "2025-04-28T17:27:00.544Z"
   },
   {
    "duration": 4,
    "start_time": "2025-04-28T17:27:00.551Z"
   },
   {
    "duration": 120,
    "start_time": "2025-04-28T17:27:00.558Z"
   },
   {
    "duration": 4,
    "start_time": "2025-04-28T17:27:00.679Z"
   },
   {
    "duration": 7,
    "start_time": "2025-04-28T17:27:00.684Z"
   },
   {
    "duration": 18,
    "start_time": "2025-04-28T17:27:00.693Z"
   },
   {
    "duration": 12,
    "start_time": "2025-04-28T17:27:00.713Z"
   },
   {
    "duration": 0,
    "start_time": "2025-04-28T17:27:00.727Z"
   },
   {
    "duration": 0,
    "start_time": "2025-04-28T17:27:00.731Z"
   },
   {
    "duration": 0,
    "start_time": "2025-04-28T17:27:00.732Z"
   },
   {
    "duration": 0,
    "start_time": "2025-04-28T17:27:00.733Z"
   },
   {
    "duration": 0,
    "start_time": "2025-04-28T17:27:00.734Z"
   },
   {
    "duration": 0,
    "start_time": "2025-04-28T17:27:00.736Z"
   },
   {
    "duration": 0,
    "start_time": "2025-04-28T17:27:00.737Z"
   },
   {
    "duration": 0,
    "start_time": "2025-04-28T17:27:00.738Z"
   },
   {
    "duration": 0,
    "start_time": "2025-04-28T17:27:00.741Z"
   },
   {
    "duration": 0,
    "start_time": "2025-04-28T17:27:00.741Z"
   },
   {
    "duration": 3,
    "start_time": "2025-04-28T17:27:28.376Z"
   },
   {
    "duration": 3,
    "start_time": "2025-04-28T17:27:30.303Z"
   },
   {
    "duration": 16,
    "start_time": "2025-04-28T17:27:30.309Z"
   },
   {
    "duration": 3,
    "start_time": "2025-04-28T17:27:30.326Z"
   },
   {
    "duration": 8,
    "start_time": "2025-04-28T17:27:30.331Z"
   },
   {
    "duration": 10,
    "start_time": "2025-04-28T17:27:30.342Z"
   },
   {
    "duration": 10,
    "start_time": "2025-04-28T17:27:30.354Z"
   },
   {
    "duration": 9,
    "start_time": "2025-04-28T17:27:30.366Z"
   },
   {
    "duration": 244,
    "start_time": "2025-04-28T17:27:30.377Z"
   },
   {
    "duration": 24,
    "start_time": "2025-04-28T17:27:30.623Z"
   },
   {
    "duration": 2,
    "start_time": "2025-04-28T17:27:30.649Z"
   },
   {
    "duration": 3,
    "start_time": "2025-04-28T17:27:30.655Z"
   },
   {
    "duration": 4,
    "start_time": "2025-04-28T17:27:30.660Z"
   },
   {
    "duration": 5,
    "start_time": "2025-04-28T17:27:30.665Z"
   },
   {
    "duration": 4,
    "start_time": "2025-04-28T17:27:30.671Z"
   },
   {
    "duration": 7,
    "start_time": "2025-04-28T17:27:30.713Z"
   },
   {
    "duration": 7,
    "start_time": "2025-04-28T17:27:30.722Z"
   },
   {
    "duration": 3,
    "start_time": "2025-04-28T17:27:30.731Z"
   },
   {
    "duration": 7,
    "start_time": "2025-04-28T17:27:30.736Z"
   },
   {
    "duration": 4,
    "start_time": "2025-04-28T17:27:30.745Z"
   },
   {
    "duration": 111,
    "start_time": "2025-04-28T17:27:30.751Z"
   },
   {
    "duration": 3,
    "start_time": "2025-04-28T17:27:30.864Z"
   },
   {
    "duration": 8,
    "start_time": "2025-04-28T17:27:30.869Z"
   },
   {
    "duration": 4,
    "start_time": "2025-04-28T17:27:30.878Z"
   },
   {
    "duration": 4,
    "start_time": "2025-04-28T17:27:30.883Z"
   },
   {
    "duration": 12,
    "start_time": "2025-04-28T17:27:30.912Z"
   },
   {
    "duration": 0,
    "start_time": "2025-04-28T17:27:30.926Z"
   },
   {
    "duration": 0,
    "start_time": "2025-04-28T17:27:30.928Z"
   },
   {
    "duration": 0,
    "start_time": "2025-04-28T17:27:30.929Z"
   },
   {
    "duration": 0,
    "start_time": "2025-04-28T17:27:30.930Z"
   },
   {
    "duration": 0,
    "start_time": "2025-04-28T17:27:30.931Z"
   },
   {
    "duration": 0,
    "start_time": "2025-04-28T17:27:30.932Z"
   },
   {
    "duration": 0,
    "start_time": "2025-04-28T17:27:30.933Z"
   },
   {
    "duration": 0,
    "start_time": "2025-04-28T17:27:30.935Z"
   },
   {
    "duration": 3,
    "start_time": "2025-04-28T17:27:47.033Z"
   },
   {
    "duration": 14,
    "start_time": "2025-04-28T17:27:47.038Z"
   },
   {
    "duration": 2,
    "start_time": "2025-04-28T17:27:47.054Z"
   },
   {
    "duration": 5,
    "start_time": "2025-04-28T17:27:47.058Z"
   },
   {
    "duration": 9,
    "start_time": "2025-04-28T17:27:47.065Z"
   },
   {
    "duration": 9,
    "start_time": "2025-04-28T17:27:47.076Z"
   },
   {
    "duration": 27,
    "start_time": "2025-04-28T17:27:47.086Z"
   },
   {
    "duration": 224,
    "start_time": "2025-04-28T17:27:47.114Z"
   },
   {
    "duration": 24,
    "start_time": "2025-04-28T17:27:47.342Z"
   },
   {
    "duration": 2,
    "start_time": "2025-04-28T17:27:47.367Z"
   },
   {
    "duration": 3,
    "start_time": "2025-04-28T17:27:47.372Z"
   },
   {
    "duration": 4,
    "start_time": "2025-04-28T17:27:47.377Z"
   },
   {
    "duration": 30,
    "start_time": "2025-04-28T17:27:47.382Z"
   },
   {
    "duration": 3,
    "start_time": "2025-04-28T17:27:47.414Z"
   },
   {
    "duration": 9,
    "start_time": "2025-04-28T17:27:47.419Z"
   },
   {
    "duration": 8,
    "start_time": "2025-04-28T17:27:47.429Z"
   },
   {
    "duration": 3,
    "start_time": "2025-04-28T17:27:47.438Z"
   },
   {
    "duration": 5,
    "start_time": "2025-04-28T17:27:47.443Z"
   },
   {
    "duration": 4,
    "start_time": "2025-04-28T17:27:47.450Z"
   },
   {
    "duration": 118,
    "start_time": "2025-04-28T17:27:47.458Z"
   },
   {
    "duration": 4,
    "start_time": "2025-04-28T17:27:47.577Z"
   },
   {
    "duration": 8,
    "start_time": "2025-04-28T17:27:47.583Z"
   },
   {
    "duration": 20,
    "start_time": "2025-04-28T17:27:47.592Z"
   },
   {
    "duration": 4,
    "start_time": "2025-04-28T17:27:47.614Z"
   },
   {
    "duration": 5,
    "start_time": "2025-04-28T17:27:47.620Z"
   },
   {
    "duration": 4,
    "start_time": "2025-04-28T17:27:47.626Z"
   },
   {
    "duration": 4,
    "start_time": "2025-04-28T17:27:47.632Z"
   },
   {
    "duration": 5,
    "start_time": "2025-04-28T17:27:47.637Z"
   },
   {
    "duration": 3,
    "start_time": "2025-04-28T17:27:47.644Z"
   },
   {
    "duration": 6,
    "start_time": "2025-04-28T17:27:47.649Z"
   },
   {
    "duration": 58,
    "start_time": "2025-04-28T17:27:47.657Z"
   },
   {
    "duration": 0,
    "start_time": "2025-04-28T17:27:47.717Z"
   },
   {
    "duration": 3,
    "start_time": "2025-04-28T17:28:14.361Z"
   },
   {
    "duration": 14,
    "start_time": "2025-04-28T17:28:14.367Z"
   },
   {
    "duration": 4,
    "start_time": "2025-04-28T17:28:14.383Z"
   },
   {
    "duration": 5,
    "start_time": "2025-04-28T17:28:14.390Z"
   },
   {
    "duration": 8,
    "start_time": "2025-04-28T17:28:14.397Z"
   },
   {
    "duration": 10,
    "start_time": "2025-04-28T17:28:14.407Z"
   },
   {
    "duration": 9,
    "start_time": "2025-04-28T17:28:14.418Z"
   },
   {
    "duration": 227,
    "start_time": "2025-04-28T17:28:14.429Z"
   },
   {
    "duration": 24,
    "start_time": "2025-04-28T17:28:14.659Z"
   },
   {
    "duration": 3,
    "start_time": "2025-04-28T17:28:14.684Z"
   },
   {
    "duration": 3,
    "start_time": "2025-04-28T17:28:14.689Z"
   },
   {
    "duration": 20,
    "start_time": "2025-04-28T17:28:14.694Z"
   },
   {
    "duration": 5,
    "start_time": "2025-04-28T17:28:14.716Z"
   },
   {
    "duration": 4,
    "start_time": "2025-04-28T17:28:14.723Z"
   },
   {
    "duration": 10,
    "start_time": "2025-04-28T17:28:14.729Z"
   },
   {
    "duration": 6,
    "start_time": "2025-04-28T17:28:14.742Z"
   },
   {
    "duration": 3,
    "start_time": "2025-04-28T17:28:14.750Z"
   },
   {
    "duration": 6,
    "start_time": "2025-04-28T17:28:14.755Z"
   },
   {
    "duration": 5,
    "start_time": "2025-04-28T17:28:14.762Z"
   },
   {
    "duration": 83,
    "start_time": "2025-04-28T17:28:14.811Z"
   },
   {
    "duration": 3,
    "start_time": "2025-04-28T17:28:14.896Z"
   },
   {
    "duration": 8,
    "start_time": "2025-04-28T17:28:14.911Z"
   },
   {
    "duration": 3,
    "start_time": "2025-04-28T17:28:14.921Z"
   },
   {
    "duration": 3,
    "start_time": "2025-04-28T17:28:14.928Z"
   },
   {
    "duration": 6,
    "start_time": "2025-04-28T17:28:14.933Z"
   },
   {
    "duration": 4,
    "start_time": "2025-04-28T17:28:14.941Z"
   },
   {
    "duration": 4,
    "start_time": "2025-04-28T17:28:14.946Z"
   },
   {
    "duration": 4,
    "start_time": "2025-04-28T17:28:14.952Z"
   },
   {
    "duration": 3,
    "start_time": "2025-04-28T17:28:14.958Z"
   },
   {
    "duration": 48,
    "start_time": "2025-04-28T17:28:14.963Z"
   },
   {
    "duration": 11,
    "start_time": "2025-04-28T17:28:15.015Z"
   },
   {
    "duration": 3,
    "start_time": "2025-04-28T17:28:15.028Z"
   },
   {
    "duration": 3,
    "start_time": "2025-04-28T17:31:02.414Z"
   },
   {
    "duration": 20,
    "start_time": "2025-04-28T17:31:02.420Z"
   },
   {
    "duration": 3,
    "start_time": "2025-04-28T17:31:02.442Z"
   },
   {
    "duration": 4,
    "start_time": "2025-04-28T17:31:02.447Z"
   },
   {
    "duration": 8,
    "start_time": "2025-04-28T17:31:02.453Z"
   },
   {
    "duration": 8,
    "start_time": "2025-04-28T17:31:02.464Z"
   },
   {
    "duration": 39,
    "start_time": "2025-04-28T17:31:02.474Z"
   },
   {
    "duration": 223,
    "start_time": "2025-04-28T17:31:02.514Z"
   },
   {
    "duration": 23,
    "start_time": "2025-04-28T17:31:02.739Z"
   },
   {
    "duration": 2,
    "start_time": "2025-04-28T17:31:02.765Z"
   },
   {
    "duration": 4,
    "start_time": "2025-04-28T17:31:02.769Z"
   },
   {
    "duration": 5,
    "start_time": "2025-04-28T17:31:02.775Z"
   },
   {
    "duration": 5,
    "start_time": "2025-04-28T17:31:02.781Z"
   },
   {
    "duration": 4,
    "start_time": "2025-04-28T17:31:02.812Z"
   },
   {
    "duration": 10,
    "start_time": "2025-04-28T17:31:02.820Z"
   },
   {
    "duration": 8,
    "start_time": "2025-04-28T17:31:02.831Z"
   },
   {
    "duration": 4,
    "start_time": "2025-04-28T17:31:02.840Z"
   },
   {
    "duration": 5,
    "start_time": "2025-04-28T17:31:02.845Z"
   },
   {
    "duration": 5,
    "start_time": "2025-04-28T17:31:02.851Z"
   },
   {
    "duration": 120,
    "start_time": "2025-04-28T17:31:02.857Z"
   },
   {
    "duration": 4,
    "start_time": "2025-04-28T17:31:02.978Z"
   },
   {
    "duration": 8,
    "start_time": "2025-04-28T17:31:02.983Z"
   },
   {
    "duration": 3,
    "start_time": "2025-04-28T17:31:02.992Z"
   },
   {
    "duration": 4,
    "start_time": "2025-04-28T17:31:03.012Z"
   },
   {
    "duration": 3,
    "start_time": "2025-04-28T17:31:03.018Z"
   },
   {
    "duration": 5,
    "start_time": "2025-04-28T17:31:03.022Z"
   },
   {
    "duration": 4,
    "start_time": "2025-04-28T17:31:03.029Z"
   },
   {
    "duration": 8,
    "start_time": "2025-04-28T17:31:03.034Z"
   },
   {
    "duration": 3,
    "start_time": "2025-04-28T17:31:03.044Z"
   },
   {
    "duration": 15,
    "start_time": "2025-04-28T17:31:56.068Z"
   },
   {
    "duration": 3,
    "start_time": "2025-04-28T17:32:22.943Z"
   },
   {
    "duration": 14,
    "start_time": "2025-04-28T17:32:22.953Z"
   },
   {
    "duration": 2,
    "start_time": "2025-04-28T17:32:22.969Z"
   },
   {
    "duration": 5,
    "start_time": "2025-04-28T17:32:22.973Z"
   },
   {
    "duration": 8,
    "start_time": "2025-04-28T17:32:22.980Z"
   },
   {
    "duration": 9,
    "start_time": "2025-04-28T17:32:22.991Z"
   },
   {
    "duration": 8,
    "start_time": "2025-04-28T17:32:23.001Z"
   },
   {
    "duration": 213,
    "start_time": "2025-04-28T17:32:23.011Z"
   },
   {
    "duration": 27,
    "start_time": "2025-04-28T17:32:23.226Z"
   },
   {
    "duration": 12,
    "start_time": "2025-04-28T17:32:23.255Z"
   },
   {
    "duration": 10,
    "start_time": "2025-04-28T17:32:23.268Z"
   },
   {
    "duration": 106,
    "start_time": "2025-04-28T17:32:23.280Z"
   },
   {
    "duration": 3,
    "start_time": "2025-04-28T17:32:23.388Z"
   },
   {
    "duration": 60,
    "start_time": "2025-04-28T17:32:23.392Z"
   },
   {
    "duration": 0,
    "start_time": "2025-04-28T17:32:23.454Z"
   },
   {
    "duration": 0,
    "start_time": "2025-04-28T17:32:23.454Z"
   },
   {
    "duration": 0,
    "start_time": "2025-04-28T17:32:23.456Z"
   },
   {
    "duration": 0,
    "start_time": "2025-04-28T17:32:23.457Z"
   },
   {
    "duration": 0,
    "start_time": "2025-04-28T17:32:23.458Z"
   },
   {
    "duration": 4,
    "start_time": "2025-04-28T17:33:01.155Z"
   },
   {
    "duration": 18,
    "start_time": "2025-04-28T17:33:01.161Z"
   },
   {
    "duration": 5,
    "start_time": "2025-04-28T17:33:01.181Z"
   },
   {
    "duration": 5,
    "start_time": "2025-04-28T17:33:01.187Z"
   },
   {
    "duration": 10,
    "start_time": "2025-04-28T17:33:01.194Z"
   },
   {
    "duration": 9,
    "start_time": "2025-04-28T17:33:01.205Z"
   },
   {
    "duration": 9,
    "start_time": "2025-04-28T17:33:01.215Z"
   },
   {
    "duration": 221,
    "start_time": "2025-04-28T17:33:01.226Z"
   },
   {
    "duration": 23,
    "start_time": "2025-04-28T17:33:01.450Z"
   },
   {
    "duration": 8,
    "start_time": "2025-04-28T17:33:01.475Z"
   },
   {
    "duration": 28,
    "start_time": "2025-04-28T17:33:01.485Z"
   },
   {
    "duration": 84,
    "start_time": "2025-04-28T17:33:01.514Z"
   },
   {
    "duration": 2,
    "start_time": "2025-04-28T17:33:01.600Z"
   },
   {
    "duration": 4,
    "start_time": "2025-04-28T17:33:01.612Z"
   },
   {
    "duration": 3,
    "start_time": "2025-04-28T17:33:01.618Z"
   },
   {
    "duration": 5,
    "start_time": "2025-04-28T17:33:01.623Z"
   },
   {
    "duration": 5,
    "start_time": "2025-04-28T17:33:01.629Z"
   },
   {
    "duration": 9,
    "start_time": "2025-04-28T17:33:01.635Z"
   },
   {
    "duration": 3,
    "start_time": "2025-04-28T17:33:01.646Z"
   },
   {
    "duration": 7,
    "start_time": "2025-04-28T17:40:10.935Z"
   },
   {
    "duration": 6,
    "start_time": "2025-04-28T17:41:19.905Z"
   },
   {
    "duration": 10,
    "start_time": "2025-04-28T17:42:00.554Z"
   },
   {
    "duration": 15,
    "start_time": "2025-04-28T18:54:51.375Z"
   },
   {
    "duration": 817,
    "start_time": "2025-04-29T16:51:41.816Z"
   },
   {
    "duration": 28,
    "start_time": "2025-04-29T16:51:42.635Z"
   },
   {
    "duration": 13,
    "start_time": "2025-04-29T16:51:42.666Z"
   },
   {
    "duration": 3,
    "start_time": "2025-04-29T16:51:42.681Z"
   },
   {
    "duration": 6,
    "start_time": "2025-04-29T16:51:42.687Z"
   },
   {
    "duration": 29,
    "start_time": "2025-04-29T16:51:42.695Z"
   },
   {
    "duration": 12,
    "start_time": "2025-04-29T16:51:42.726Z"
   },
   {
    "duration": 9,
    "start_time": "2025-04-29T16:51:42.739Z"
   },
   {
    "duration": 237,
    "start_time": "2025-04-29T16:51:42.750Z"
   },
   {
    "duration": 38,
    "start_time": "2025-04-29T16:51:42.989Z"
   },
   {
    "duration": 12,
    "start_time": "2025-04-29T16:51:43.029Z"
   },
   {
    "duration": 8,
    "start_time": "2025-04-29T16:51:43.043Z"
   },
   {
    "duration": 107,
    "start_time": "2025-04-29T16:51:43.052Z"
   },
   {
    "duration": 4,
    "start_time": "2025-04-29T16:51:43.163Z"
   },
   {
    "duration": 6,
    "start_time": "2025-04-29T16:51:43.169Z"
   },
   {
    "duration": 4,
    "start_time": "2025-04-29T16:51:43.176Z"
   },
   {
    "duration": 247,
    "start_time": "2025-04-29T16:51:43.181Z"
   },
   {
    "duration": 0,
    "start_time": "2025-04-29T16:51:43.430Z"
   },
   {
    "duration": 0,
    "start_time": "2025-04-29T16:51:43.431Z"
   },
   {
    "duration": 0,
    "start_time": "2025-04-29T16:51:43.432Z"
   },
   {
    "duration": 0,
    "start_time": "2025-04-29T16:51:43.433Z"
   },
   {
    "duration": 4,
    "start_time": "2025-04-29T16:53:46.517Z"
   },
   {
    "duration": 4,
    "start_time": "2025-04-29T16:53:47.266Z"
   },
   {
    "duration": 3,
    "start_time": "2025-04-29T16:53:47.855Z"
   },
   {
    "duration": 20,
    "start_time": "2025-04-29T16:56:46.329Z"
   },
   {
    "duration": 21,
    "start_time": "2025-04-29T16:57:03.895Z"
   },
   {
    "duration": 1847,
    "start_time": "2025-04-29T16:57:22.372Z"
   },
   {
    "duration": 29,
    "start_time": "2025-04-29T16:57:26.407Z"
   },
   {
    "duration": 128,
    "start_time": "2025-04-29T16:57:45.006Z"
   },
   {
    "duration": 1421,
    "start_time": "2025-04-29T16:57:47.928Z"
   },
   {
    "duration": 1277,
    "start_time": "2025-04-29T17:40:03.829Z"
   },
   {
    "duration": 4,
    "start_time": "2025-04-29T18:27:27.148Z"
   },
   {
    "duration": 20,
    "start_time": "2025-04-29T18:27:27.154Z"
   },
   {
    "duration": 13,
    "start_time": "2025-04-29T18:27:27.176Z"
   },
   {
    "duration": 3,
    "start_time": "2025-04-29T18:27:27.191Z"
   },
   {
    "duration": 7,
    "start_time": "2025-04-29T18:27:27.268Z"
   },
   {
    "duration": 3,
    "start_time": "2025-04-29T18:27:27.278Z"
   },
   {
    "duration": 4,
    "start_time": "2025-04-29T18:27:27.284Z"
   },
   {
    "duration": 4,
    "start_time": "2025-04-29T18:27:27.289Z"
   },
   {
    "duration": 1231,
    "start_time": "2025-04-29T18:27:27.295Z"
   },
   {
    "duration": 220,
    "start_time": "2025-04-29T18:27:28.528Z"
   },
   {
    "duration": 29,
    "start_time": "2025-04-29T18:27:28.751Z"
   },
   {
    "duration": 11,
    "start_time": "2025-04-29T18:27:28.782Z"
   },
   {
    "duration": 7,
    "start_time": "2025-04-29T18:27:28.796Z"
   },
   {
    "duration": 87,
    "start_time": "2025-04-29T18:27:28.824Z"
   },
   {
    "duration": 5,
    "start_time": "2025-04-29T18:27:28.926Z"
   },
   {
    "duration": 11,
    "start_time": "2025-04-29T18:27:28.934Z"
   },
   {
    "duration": 4,
    "start_time": "2025-04-29T18:27:28.947Z"
   },
   {
    "duration": 29,
    "start_time": "2025-04-29T18:27:28.953Z"
   },
   {
    "duration": 0,
    "start_time": "2025-04-29T18:27:28.984Z"
   },
   {
    "duration": 0,
    "start_time": "2025-04-29T18:27:28.985Z"
   },
   {
    "duration": 0,
    "start_time": "2025-04-29T18:27:28.986Z"
   },
   {
    "duration": 0,
    "start_time": "2025-04-29T18:27:28.987Z"
   },
   {
    "duration": 0,
    "start_time": "2025-04-29T18:27:28.988Z"
   },
   {
    "duration": 14,
    "start_time": "2025-04-29T18:27:46.047Z"
   },
   {
    "duration": 14,
    "start_time": "2025-04-29T18:28:20.328Z"
   },
   {
    "duration": 16,
    "start_time": "2025-04-29T18:28:42.476Z"
   },
   {
    "duration": 7,
    "start_time": "2025-04-29T18:30:44.109Z"
   },
   {
    "duration": 0,
    "start_time": "2025-04-29T18:30:44.118Z"
   },
   {
    "duration": 0,
    "start_time": "2025-04-29T18:30:44.119Z"
   },
   {
    "duration": 0,
    "start_time": "2025-04-29T18:30:44.120Z"
   },
   {
    "duration": 7,
    "start_time": "2025-04-29T18:30:44.122Z"
   },
   {
    "duration": 3,
    "start_time": "2025-04-29T18:30:44.131Z"
   },
   {
    "duration": 4,
    "start_time": "2025-04-29T18:30:44.136Z"
   },
   {
    "duration": 4,
    "start_time": "2025-04-29T18:30:44.143Z"
   },
   {
    "duration": 1262,
    "start_time": "2025-04-29T18:30:44.149Z"
   },
   {
    "duration": 225,
    "start_time": "2025-04-29T18:30:45.413Z"
   },
   {
    "duration": 24,
    "start_time": "2025-04-29T18:30:45.641Z"
   },
   {
    "duration": 9,
    "start_time": "2025-04-29T18:30:45.667Z"
   },
   {
    "duration": 7,
    "start_time": "2025-04-29T18:30:45.678Z"
   },
   {
    "duration": 113,
    "start_time": "2025-04-29T18:30:45.686Z"
   },
   {
    "duration": 2,
    "start_time": "2025-04-29T18:30:45.801Z"
   },
   {
    "duration": 7,
    "start_time": "2025-04-29T18:30:45.804Z"
   },
   {
    "duration": 4,
    "start_time": "2025-04-29T18:30:45.825Z"
   },
   {
    "duration": 14,
    "start_time": "2025-04-29T18:30:45.831Z"
   },
   {
    "duration": 0,
    "start_time": "2025-04-29T18:30:45.847Z"
   },
   {
    "duration": 0,
    "start_time": "2025-04-29T18:30:45.848Z"
   },
   {
    "duration": 0,
    "start_time": "2025-04-29T18:30:45.849Z"
   },
   {
    "duration": 0,
    "start_time": "2025-04-29T18:30:45.851Z"
   },
   {
    "duration": 0,
    "start_time": "2025-04-29T18:30:45.852Z"
   },
   {
    "duration": 3,
    "start_time": "2025-04-29T18:31:06.129Z"
   },
   {
    "duration": 14,
    "start_time": "2025-04-29T18:31:06.135Z"
   },
   {
    "duration": 16,
    "start_time": "2025-04-29T18:31:06.151Z"
   },
   {
    "duration": 3,
    "start_time": "2025-04-29T18:31:06.169Z"
   },
   {
    "duration": 7,
    "start_time": "2025-04-29T18:31:06.174Z"
   },
   {
    "duration": 3,
    "start_time": "2025-04-29T18:31:06.183Z"
   },
   {
    "duration": 4,
    "start_time": "2025-04-29T18:31:06.224Z"
   },
   {
    "duration": 4,
    "start_time": "2025-04-29T18:31:06.229Z"
   },
   {
    "duration": 1158,
    "start_time": "2025-04-29T18:31:06.235Z"
   },
   {
    "duration": 237,
    "start_time": "2025-04-29T18:31:07.396Z"
   },
   {
    "duration": 24,
    "start_time": "2025-04-29T18:31:07.635Z"
   },
   {
    "duration": 11,
    "start_time": "2025-04-29T18:31:07.661Z"
   },
   {
    "duration": 8,
    "start_time": "2025-04-29T18:31:07.674Z"
   },
   {
    "duration": 137,
    "start_time": "2025-04-29T18:31:07.686Z"
   },
   {
    "duration": 3,
    "start_time": "2025-04-29T18:31:07.825Z"
   },
   {
    "duration": 7,
    "start_time": "2025-04-29T18:31:07.830Z"
   },
   {
    "duration": 4,
    "start_time": "2025-04-29T18:31:07.839Z"
   },
   {
    "duration": 4,
    "start_time": "2025-04-29T18:31:07.846Z"
   },
   {
    "duration": 15,
    "start_time": "2025-04-29T18:31:07.852Z"
   },
   {
    "duration": 0,
    "start_time": "2025-04-29T18:31:07.869Z"
   },
   {
    "duration": 0,
    "start_time": "2025-04-29T18:31:07.870Z"
   },
   {
    "duration": 0,
    "start_time": "2025-04-29T18:31:07.871Z"
   },
   {
    "duration": 0,
    "start_time": "2025-04-29T18:31:07.872Z"
   },
   {
    "duration": 22,
    "start_time": "2025-04-29T18:31:28.274Z"
   },
   {
    "duration": 148,
    "start_time": "2025-04-29T18:32:00.564Z"
   },
   {
    "duration": 5,
    "start_time": "2025-04-29T18:33:13.721Z"
   },
   {
    "duration": 15,
    "start_time": "2025-04-29T18:33:13.728Z"
   },
   {
    "duration": 12,
    "start_time": "2025-04-29T18:33:13.744Z"
   },
   {
    "duration": 3,
    "start_time": "2025-04-29T18:33:13.758Z"
   },
   {
    "duration": 5,
    "start_time": "2025-04-29T18:33:13.763Z"
   },
   {
    "duration": 3,
    "start_time": "2025-04-29T18:33:13.770Z"
   },
   {
    "duration": 3,
    "start_time": "2025-04-29T18:33:13.775Z"
   },
   {
    "duration": 4,
    "start_time": "2025-04-29T18:33:13.780Z"
   },
   {
    "duration": 1265,
    "start_time": "2025-04-29T18:33:13.826Z"
   },
   {
    "duration": 231,
    "start_time": "2025-04-29T18:33:15.093Z"
   },
   {
    "duration": 25,
    "start_time": "2025-04-29T18:33:15.326Z"
   },
   {
    "duration": 10,
    "start_time": "2025-04-29T18:33:15.353Z"
   },
   {
    "duration": 8,
    "start_time": "2025-04-29T18:33:15.365Z"
   },
   {
    "duration": 114,
    "start_time": "2025-04-29T18:33:15.375Z"
   },
   {
    "duration": 3,
    "start_time": "2025-04-29T18:33:15.490Z"
   },
   {
    "duration": 6,
    "start_time": "2025-04-29T18:33:15.495Z"
   },
   {
    "duration": 23,
    "start_time": "2025-04-29T18:33:15.502Z"
   },
   {
    "duration": 133,
    "start_time": "2025-04-29T18:33:15.527Z"
   },
   {
    "duration": 6,
    "start_time": "2025-04-29T18:33:15.662Z"
   },
   {
    "duration": 7,
    "start_time": "2025-04-29T18:33:15.670Z"
   },
   {
    "duration": 4,
    "start_time": "2025-04-29T18:33:15.678Z"
   },
   {
    "duration": 9,
    "start_time": "2025-04-29T18:33:15.684Z"
   },
   {
    "duration": 30,
    "start_time": "2025-04-29T18:33:15.695Z"
   },
   {
    "duration": 118,
    "start_time": "2025-04-29T18:34:00.688Z"
   },
   {
    "duration": 7,
    "start_time": "2025-04-29T18:34:32.760Z"
   },
   {
    "duration": 121,
    "start_time": "2025-04-29T18:35:18.480Z"
   },
   {
    "duration": 6,
    "start_time": "2025-04-29T18:35:41.667Z"
   },
   {
    "duration": 7,
    "start_time": "2025-04-29T18:35:56.241Z"
   },
   {
    "duration": 4,
    "start_time": "2025-04-29T19:21:03.323Z"
   },
   {
    "duration": 17,
    "start_time": "2025-04-29T19:21:03.329Z"
   },
   {
    "duration": 12,
    "start_time": "2025-04-29T19:21:03.348Z"
   },
   {
    "duration": 3,
    "start_time": "2025-04-29T19:21:03.362Z"
   },
   {
    "duration": 5,
    "start_time": "2025-04-29T19:21:03.433Z"
   },
   {
    "duration": 5,
    "start_time": "2025-04-29T19:21:03.439Z"
   },
   {
    "duration": 3,
    "start_time": "2025-04-29T19:21:03.452Z"
   },
   {
    "duration": 4,
    "start_time": "2025-04-29T19:21:03.456Z"
   },
   {
    "duration": 1039,
    "start_time": "2025-04-29T19:21:03.467Z"
   },
   {
    "duration": 220,
    "start_time": "2025-04-29T19:21:04.508Z"
   },
   {
    "duration": 24,
    "start_time": "2025-04-29T19:21:04.730Z"
   },
   {
    "duration": 10,
    "start_time": "2025-04-29T19:21:04.756Z"
   },
   {
    "duration": 8,
    "start_time": "2025-04-29T19:21:04.769Z"
   },
   {
    "duration": 109,
    "start_time": "2025-04-29T19:21:04.779Z"
   },
   {
    "duration": 3,
    "start_time": "2025-04-29T19:21:04.889Z"
   },
   {
    "duration": 5,
    "start_time": "2025-04-29T19:21:04.894Z"
   },
   {
    "duration": 4,
    "start_time": "2025-04-29T19:21:04.902Z"
   },
   {
    "duration": 8,
    "start_time": "2025-04-29T19:21:04.924Z"
   },
   {
    "duration": 5,
    "start_time": "2025-04-29T19:21:04.933Z"
   },
   {
    "duration": 4,
    "start_time": "2025-04-29T19:21:04.940Z"
   },
   {
    "duration": 6,
    "start_time": "2025-04-29T19:21:04.946Z"
   },
   {
    "duration": 8,
    "start_time": "2025-04-29T19:21:04.955Z"
   },
   {
    "duration": 4,
    "start_time": "2025-04-29T19:21:04.964Z"
   },
   {
    "duration": 6,
    "start_time": "2025-04-29T19:21:04.969Z"
   },
   {
    "duration": 157,
    "start_time": "2025-04-29T23:29:04.885Z"
   },
   {
    "duration": 13,
    "start_time": "2025-04-29T23:33:13.365Z"
   },
   {
    "duration": 2748,
    "start_time": "2025-04-29T23:33:18.287Z"
   },
   {
    "duration": 22,
    "start_time": "2025-04-29T23:33:21.037Z"
   },
   {
    "duration": 13,
    "start_time": "2025-04-29T23:33:21.061Z"
   },
   {
    "duration": 3,
    "start_time": "2025-04-29T23:33:21.075Z"
   },
   {
    "duration": 5,
    "start_time": "2025-04-29T23:33:21.081Z"
   },
   {
    "duration": 4,
    "start_time": "2025-04-29T23:33:21.087Z"
   },
   {
    "duration": 29,
    "start_time": "2025-04-29T23:33:21.093Z"
   },
   {
    "duration": 3,
    "start_time": "2025-04-29T23:33:21.124Z"
   },
   {
    "duration": 1162,
    "start_time": "2025-04-29T23:33:21.129Z"
   },
   {
    "duration": 220,
    "start_time": "2025-04-29T23:33:22.293Z"
   },
   {
    "duration": 28,
    "start_time": "2025-04-29T23:33:22.514Z"
   },
   {
    "duration": 9,
    "start_time": "2025-04-29T23:33:22.543Z"
   },
   {
    "duration": 7,
    "start_time": "2025-04-29T23:33:22.555Z"
   },
   {
    "duration": 102,
    "start_time": "2025-04-29T23:33:22.565Z"
   },
   {
    "duration": 2,
    "start_time": "2025-04-29T23:33:22.669Z"
   },
   {
    "duration": 5,
    "start_time": "2025-04-29T23:33:22.673Z"
   },
   {
    "duration": 4,
    "start_time": "2025-04-29T23:33:22.679Z"
   },
   {
    "duration": 5,
    "start_time": "2025-04-29T23:33:22.685Z"
   },
   {
    "duration": 28,
    "start_time": "2025-04-29T23:33:22.692Z"
   },
   {
    "duration": 3,
    "start_time": "2025-04-29T23:33:22.722Z"
   },
   {
    "duration": 6,
    "start_time": "2025-04-29T23:33:22.726Z"
   },
   {
    "duration": 8,
    "start_time": "2025-04-29T23:33:22.733Z"
   },
   {
    "duration": 3,
    "start_time": "2025-04-29T23:33:22.743Z"
   },
   {
    "duration": 6,
    "start_time": "2025-04-29T23:33:22.747Z"
   },
   {
    "duration": 126,
    "start_time": "2025-04-29T23:33:22.754Z"
   },
   {
    "duration": 18,
    "start_time": "2025-04-29T23:33:44.369Z"
   },
   {
    "duration": 874,
    "start_time": "2025-04-29T23:33:56.794Z"
   },
   {
    "duration": 2765,
    "start_time": "2025-04-30T12:46:23.017Z"
   },
   {
    "duration": 20,
    "start_time": "2025-04-30T12:46:25.785Z"
   },
   {
    "duration": 17,
    "start_time": "2025-04-30T12:46:25.807Z"
   },
   {
    "duration": 3,
    "start_time": "2025-04-30T12:46:25.826Z"
   },
   {
    "duration": 5,
    "start_time": "2025-04-30T12:46:25.831Z"
   },
   {
    "duration": 4,
    "start_time": "2025-04-30T12:46:25.837Z"
   },
   {
    "duration": 4,
    "start_time": "2025-04-30T12:46:25.842Z"
   },
   {
    "duration": 13,
    "start_time": "2025-04-30T12:46:25.847Z"
   },
   {
    "duration": 1164,
    "start_time": "2025-04-30T12:46:25.861Z"
   },
   {
    "duration": 224,
    "start_time": "2025-04-30T12:46:27.027Z"
   },
   {
    "duration": 25,
    "start_time": "2025-04-30T12:46:27.253Z"
   },
   {
    "duration": 8,
    "start_time": "2025-04-30T12:46:27.280Z"
   },
   {
    "duration": 29,
    "start_time": "2025-04-30T12:46:27.290Z"
   },
   {
    "duration": 85,
    "start_time": "2025-04-30T12:46:27.322Z"
   },
   {
    "duration": 11,
    "start_time": "2025-04-30T12:46:27.409Z"
   },
   {
    "duration": 6,
    "start_time": "2025-04-30T12:46:27.423Z"
   },
   {
    "duration": 5,
    "start_time": "2025-04-30T12:46:27.430Z"
   },
   {
    "duration": 7,
    "start_time": "2025-04-30T12:46:27.436Z"
   },
   {
    "duration": 7,
    "start_time": "2025-04-30T12:46:27.445Z"
   },
   {
    "duration": 5,
    "start_time": "2025-04-30T12:46:27.454Z"
   },
   {
    "duration": 7,
    "start_time": "2025-04-30T12:46:27.461Z"
   },
   {
    "duration": 54,
    "start_time": "2025-04-30T12:46:27.470Z"
   },
   {
    "duration": 4,
    "start_time": "2025-04-30T12:46:27.527Z"
   },
   {
    "duration": 6,
    "start_time": "2025-04-30T12:46:27.533Z"
   },
   {
    "duration": 871,
    "start_time": "2025-04-30T12:46:27.541Z"
   },
   {
    "duration": 4,
    "start_time": "2025-04-30T12:46:28.414Z"
   },
   {
    "duration": 8,
    "start_time": "2025-04-30T12:46:28.420Z"
   },
   {
    "duration": 4,
    "start_time": "2025-04-30T12:49:53.925Z"
   },
   {
    "duration": 8,
    "start_time": "2025-04-30T12:49:54.530Z"
   },
   {
    "duration": 8,
    "start_time": "2025-04-30T12:50:51.667Z"
   },
   {
    "duration": 3,
    "start_time": "2025-04-30T12:56:35.347Z"
   },
   {
    "duration": 16,
    "start_time": "2025-04-30T12:56:35.352Z"
   },
   {
    "duration": 12,
    "start_time": "2025-04-30T12:56:35.370Z"
   },
   {
    "duration": 3,
    "start_time": "2025-04-30T12:56:35.384Z"
   },
   {
    "duration": 4,
    "start_time": "2025-04-30T12:56:35.389Z"
   },
   {
    "duration": 3,
    "start_time": "2025-04-30T12:56:35.395Z"
   },
   {
    "duration": 4,
    "start_time": "2025-04-30T12:56:35.399Z"
   },
   {
    "duration": 3,
    "start_time": "2025-04-30T12:56:35.419Z"
   },
   {
    "duration": 1167,
    "start_time": "2025-04-30T12:56:35.423Z"
   },
   {
    "duration": 220,
    "start_time": "2025-04-30T12:56:36.593Z"
   },
   {
    "duration": 28,
    "start_time": "2025-04-30T12:56:36.814Z"
   },
   {
    "duration": 9,
    "start_time": "2025-04-30T12:56:36.844Z"
   },
   {
    "duration": 7,
    "start_time": "2025-04-30T12:56:36.855Z"
   },
   {
    "duration": 103,
    "start_time": "2025-04-30T12:56:36.863Z"
   },
   {
    "duration": 2,
    "start_time": "2025-04-30T12:56:36.968Z"
   },
   {
    "duration": 6,
    "start_time": "2025-04-30T12:56:36.972Z"
   },
   {
    "duration": 4,
    "start_time": "2025-04-30T12:56:36.980Z"
   },
   {
    "duration": 6,
    "start_time": "2025-04-30T12:56:36.985Z"
   },
   {
    "duration": 29,
    "start_time": "2025-04-30T12:56:36.993Z"
   },
   {
    "duration": 3,
    "start_time": "2025-04-30T12:56:37.024Z"
   },
   {
    "duration": 14,
    "start_time": "2025-04-30T12:56:37.028Z"
   },
   {
    "duration": 9,
    "start_time": "2025-04-30T12:56:37.045Z"
   },
   {
    "duration": 4,
    "start_time": "2025-04-30T12:56:37.055Z"
   },
   {
    "duration": 6,
    "start_time": "2025-04-30T12:56:37.060Z"
   },
   {
    "duration": 847,
    "start_time": "2025-04-30T12:56:37.067Z"
   },
   {
    "duration": 4,
    "start_time": "2025-04-30T12:56:37.920Z"
   },
   {
    "duration": 7,
    "start_time": "2025-04-30T12:56:37.926Z"
   },
   {
    "duration": 4,
    "start_time": "2025-04-30T12:57:30.685Z"
   },
   {
    "duration": 3,
    "start_time": "2025-04-30T12:58:09.274Z"
   },
   {
    "duration": 4,
    "start_time": "2025-04-30T12:58:22.974Z"
   },
   {
    "duration": 8,
    "start_time": "2025-04-30T12:58:23.702Z"
   },
   {
    "duration": 2682,
    "start_time": "2025-04-30T13:29:37.898Z"
   },
   {
    "duration": 575,
    "start_time": "2025-04-30T13:29:40.582Z"
   },
   {
    "duration": 0,
    "start_time": "2025-04-30T13:29:41.159Z"
   },
   {
    "duration": 0,
    "start_time": "2025-04-30T13:29:41.161Z"
   },
   {
    "duration": 0,
    "start_time": "2025-04-30T13:29:41.162Z"
   },
   {
    "duration": 0,
    "start_time": "2025-04-30T13:29:41.163Z"
   },
   {
    "duration": 0,
    "start_time": "2025-04-30T13:29:41.164Z"
   },
   {
    "duration": 0,
    "start_time": "2025-04-30T13:29:41.165Z"
   },
   {
    "duration": 0,
    "start_time": "2025-04-30T13:29:41.166Z"
   },
   {
    "duration": 0,
    "start_time": "2025-04-30T13:29:41.167Z"
   },
   {
    "duration": 0,
    "start_time": "2025-04-30T13:29:41.168Z"
   },
   {
    "duration": 0,
    "start_time": "2025-04-30T13:29:41.169Z"
   },
   {
    "duration": 0,
    "start_time": "2025-04-30T13:29:41.171Z"
   },
   {
    "duration": 0,
    "start_time": "2025-04-30T13:29:41.172Z"
   },
   {
    "duration": 0,
    "start_time": "2025-04-30T13:29:41.173Z"
   },
   {
    "duration": 0,
    "start_time": "2025-04-30T13:29:41.174Z"
   },
   {
    "duration": 0,
    "start_time": "2025-04-30T13:29:41.175Z"
   },
   {
    "duration": 0,
    "start_time": "2025-04-30T13:29:41.176Z"
   },
   {
    "duration": 0,
    "start_time": "2025-04-30T13:29:41.177Z"
   },
   {
    "duration": 0,
    "start_time": "2025-04-30T13:29:41.211Z"
   },
   {
    "duration": 0,
    "start_time": "2025-04-30T13:29:41.212Z"
   },
   {
    "duration": 0,
    "start_time": "2025-04-30T13:29:41.213Z"
   },
   {
    "duration": 0,
    "start_time": "2025-04-30T13:29:41.214Z"
   },
   {
    "duration": 0,
    "start_time": "2025-04-30T13:29:41.216Z"
   },
   {
    "duration": 0,
    "start_time": "2025-04-30T13:29:41.217Z"
   },
   {
    "duration": 0,
    "start_time": "2025-04-30T13:29:41.219Z"
   },
   {
    "duration": 0,
    "start_time": "2025-04-30T13:29:41.221Z"
   },
   {
    "duration": 948,
    "start_time": "2025-04-30T13:30:05.700Z"
   },
   {
    "duration": 527,
    "start_time": "2025-04-30T13:30:06.650Z"
   },
   {
    "duration": 0,
    "start_time": "2025-04-30T13:30:07.180Z"
   },
   {
    "duration": 0,
    "start_time": "2025-04-30T13:30:07.181Z"
   },
   {
    "duration": 0,
    "start_time": "2025-04-30T13:30:07.183Z"
   },
   {
    "duration": 0,
    "start_time": "2025-04-30T13:30:07.184Z"
   },
   {
    "duration": 0,
    "start_time": "2025-04-30T13:30:07.185Z"
   },
   {
    "duration": 0,
    "start_time": "2025-04-30T13:30:07.187Z"
   },
   {
    "duration": 0,
    "start_time": "2025-04-30T13:30:07.189Z"
   },
   {
    "duration": 0,
    "start_time": "2025-04-30T13:30:07.191Z"
   },
   {
    "duration": 0,
    "start_time": "2025-04-30T13:30:07.192Z"
   },
   {
    "duration": 0,
    "start_time": "2025-04-30T13:30:07.212Z"
   },
   {
    "duration": 0,
    "start_time": "2025-04-30T13:30:07.212Z"
   },
   {
    "duration": 0,
    "start_time": "2025-04-30T13:30:07.214Z"
   },
   {
    "duration": 0,
    "start_time": "2025-04-30T13:30:07.220Z"
   },
   {
    "duration": 0,
    "start_time": "2025-04-30T13:30:07.221Z"
   },
   {
    "duration": 0,
    "start_time": "2025-04-30T13:30:07.222Z"
   },
   {
    "duration": 0,
    "start_time": "2025-04-30T13:30:07.223Z"
   },
   {
    "duration": 0,
    "start_time": "2025-04-30T13:30:07.224Z"
   },
   {
    "duration": 0,
    "start_time": "2025-04-30T13:30:07.225Z"
   },
   {
    "duration": 0,
    "start_time": "2025-04-30T13:30:07.226Z"
   },
   {
    "duration": 0,
    "start_time": "2025-04-30T13:30:07.227Z"
   },
   {
    "duration": 0,
    "start_time": "2025-04-30T13:30:07.229Z"
   },
   {
    "duration": 0,
    "start_time": "2025-04-30T13:30:07.230Z"
   },
   {
    "duration": 0,
    "start_time": "2025-04-30T13:30:07.231Z"
   },
   {
    "duration": 0,
    "start_time": "2025-04-30T13:30:07.232Z"
   },
   {
    "duration": 0,
    "start_time": "2025-04-30T13:30:07.234Z"
   },
   {
    "duration": 1030,
    "start_time": "2025-04-30T13:30:15.952Z"
   },
   {
    "duration": 24,
    "start_time": "2025-04-30T13:30:16.984Z"
   },
   {
    "duration": 12,
    "start_time": "2025-04-30T13:30:17.009Z"
   },
   {
    "duration": 4,
    "start_time": "2025-04-30T13:30:17.023Z"
   },
   {
    "duration": 5,
    "start_time": "2025-04-30T13:30:17.029Z"
   },
   {
    "duration": 3,
    "start_time": "2025-04-30T13:30:17.036Z"
   },
   {
    "duration": 3,
    "start_time": "2025-04-30T13:30:17.042Z"
   },
   {
    "duration": 4,
    "start_time": "2025-04-30T13:30:17.046Z"
   },
   {
    "duration": 1137,
    "start_time": "2025-04-30T13:30:17.051Z"
   },
   {
    "duration": 221,
    "start_time": "2025-04-30T13:30:18.191Z"
   },
   {
    "duration": 25,
    "start_time": "2025-04-30T13:30:18.414Z"
   },
   {
    "duration": 9,
    "start_time": "2025-04-30T13:30:18.440Z"
   },
   {
    "duration": 8,
    "start_time": "2025-04-30T13:30:18.450Z"
   },
   {
    "duration": 112,
    "start_time": "2025-04-30T13:30:18.459Z"
   },
   {
    "duration": 2,
    "start_time": "2025-04-30T13:30:18.573Z"
   },
   {
    "duration": 5,
    "start_time": "2025-04-30T13:30:18.577Z"
   },
   {
    "duration": 3,
    "start_time": "2025-04-30T13:30:18.584Z"
   },
   {
    "duration": 23,
    "start_time": "2025-04-30T13:30:18.589Z"
   },
   {
    "duration": 7,
    "start_time": "2025-04-30T13:30:18.613Z"
   },
   {
    "duration": 4,
    "start_time": "2025-04-30T13:30:18.622Z"
   },
   {
    "duration": 7,
    "start_time": "2025-04-30T13:30:18.628Z"
   },
   {
    "duration": 9,
    "start_time": "2025-04-30T13:30:18.636Z"
   },
   {
    "duration": 4,
    "start_time": "2025-04-30T13:30:18.646Z"
   },
   {
    "duration": 7,
    "start_time": "2025-04-30T13:30:18.651Z"
   },
   {
    "duration": 896,
    "start_time": "2025-04-30T13:30:18.660Z"
   },
   {
    "duration": 5,
    "start_time": "2025-04-30T13:30:19.558Z"
   },
   {
    "duration": 7,
    "start_time": "2025-04-30T13:30:19.565Z"
   },
   {
    "duration": 952,
    "start_time": "2025-04-30T14:30:37.501Z"
   },
   {
    "duration": 19,
    "start_time": "2025-04-30T14:30:38.456Z"
   },
   {
    "duration": 15,
    "start_time": "2025-04-30T14:30:38.477Z"
   },
   {
    "duration": 7,
    "start_time": "2025-04-30T14:30:38.494Z"
   },
   {
    "duration": 6,
    "start_time": "2025-04-30T14:30:38.513Z"
   },
   {
    "duration": 3,
    "start_time": "2025-04-30T14:30:38.521Z"
   },
   {
    "duration": 3,
    "start_time": "2025-04-30T14:30:38.526Z"
   },
   {
    "duration": 4,
    "start_time": "2025-04-30T14:30:38.531Z"
   },
   {
    "duration": 1141,
    "start_time": "2025-04-30T14:30:38.538Z"
   },
   {
    "duration": 220,
    "start_time": "2025-04-30T14:30:39.681Z"
   },
   {
    "duration": 30,
    "start_time": "2025-04-30T14:30:39.903Z"
   },
   {
    "duration": 10,
    "start_time": "2025-04-30T14:30:39.935Z"
   },
   {
    "duration": 9,
    "start_time": "2025-04-30T14:30:39.947Z"
   },
   {
    "duration": 105,
    "start_time": "2025-04-30T14:30:39.960Z"
   },
   {
    "duration": 3,
    "start_time": "2025-04-30T14:30:40.066Z"
   },
   {
    "duration": 5,
    "start_time": "2025-04-30T14:30:40.071Z"
   },
   {
    "duration": 4,
    "start_time": "2025-04-30T14:30:40.077Z"
   },
   {
    "duration": 31,
    "start_time": "2025-04-30T14:30:40.082Z"
   },
   {
    "duration": 5,
    "start_time": "2025-04-30T14:30:40.115Z"
   },
   {
    "duration": 4,
    "start_time": "2025-04-30T14:30:40.122Z"
   },
   {
    "duration": 7,
    "start_time": "2025-04-30T14:30:40.127Z"
   },
   {
    "duration": 9,
    "start_time": "2025-04-30T14:30:40.135Z"
   },
   {
    "duration": 5,
    "start_time": "2025-04-30T14:30:40.147Z"
   },
   {
    "duration": 7,
    "start_time": "2025-04-30T14:30:40.153Z"
   },
   {
    "duration": 886,
    "start_time": "2025-04-30T14:30:40.162Z"
   },
   {
    "duration": 4,
    "start_time": "2025-04-30T14:30:41.050Z"
   },
   {
    "duration": 7,
    "start_time": "2025-04-30T14:30:41.056Z"
   }
  ],
  "kernelspec": {
   "display_name": "Python 3 (ipykernel)",
   "language": "python",
   "name": "python3"
  },
  "language_info": {
   "codemirror_mode": {
    "name": "ipython",
    "version": 3
   },
   "file_extension": ".py",
   "mimetype": "text/x-python",
   "name": "python",
   "nbconvert_exporter": "python",
   "pygments_lexer": "ipython3",
   "version": "3.9.19"
  },
  "toc": {
   "base_numbering": 1,
   "nav_menu": {},
   "number_sections": true,
   "sideBar": true,
   "skip_h1_title": true,
   "title_cell": "Table of Contents",
   "title_sidebar": "Contents",
   "toc_cell": false,
   "toc_position": {},
   "toc_section_display": true,
   "toc_window_display": false
  }
 },
 "nbformat": 4,
 "nbformat_minor": 2
}
